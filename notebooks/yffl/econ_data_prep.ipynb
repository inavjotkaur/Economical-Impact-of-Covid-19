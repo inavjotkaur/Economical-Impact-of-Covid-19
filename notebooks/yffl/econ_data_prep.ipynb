{
 "cells": [
  {
   "cell_type": "code",
   "execution_count": 1,
   "id": "abc24160",
   "metadata": {},
   "outputs": [],
   "source": [
    "import numpy as np\n",
    "import pandas as pd"
   ]
  },
  {
   "cell_type": "code",
   "execution_count": 2,
   "id": "366073ef-33d1-4e54-ba22-9ffaf3495f2a",
   "metadata": {},
   "outputs": [],
   "source": [
    "DATA_DIR = '/home/ubuntu/data/patterns'\n",
    "TMP_DATA_DIR = '../../data'"
   ]
  },
  {
   "cell_type": "code",
   "execution_count": 3,
   "id": "0a13eda7-47fb-4710-a27f-1748998cc410",
   "metadata": {},
   "outputs": [],
   "source": [
    "brands = pd.read_csv(f'{DATA_DIR}/brand_info.csv')"
   ]
  },
  {
   "cell_type": "code",
   "execution_count": 4,
   "id": "bff581ec-605b-4203-aa9c-5c094059543d",
   "metadata": {},
   "outputs": [
    {
     "data": {
      "text/html": [
       "<div>\n",
       "<style scoped>\n",
       "    .dataframe tbody tr th:only-of-type {\n",
       "        vertical-align: middle;\n",
       "    }\n",
       "\n",
       "    .dataframe tbody tr th {\n",
       "        vertical-align: top;\n",
       "    }\n",
       "\n",
       "    .dataframe thead th {\n",
       "        text-align: right;\n",
       "    }\n",
       "</style>\n",
       "<table border=\"1\" class=\"dataframe\">\n",
       "  <thead>\n",
       "    <tr style=\"text-align: right;\">\n",
       "      <th></th>\n",
       "      <th>safegraph_brand_id</th>\n",
       "      <th>brand_name</th>\n",
       "      <th>parent_safegraph_brand_id</th>\n",
       "      <th>naics_code</th>\n",
       "      <th>top_category</th>\n",
       "      <th>sub_category</th>\n",
       "      <th>stock_symbol</th>\n",
       "      <th>stock_exchange</th>\n",
       "      <th>iso_country_codes_open</th>\n",
       "      <th>iso_country_codes_closed</th>\n",
       "    </tr>\n",
       "  </thead>\n",
       "  <tbody>\n",
       "    <tr>\n",
       "      <th>0</th>\n",
       "      <td>SG_BRAND_1ec16189589a76ef</td>\n",
       "      <td>&amp; Other Stories</td>\n",
       "      <td>NaN</td>\n",
       "      <td>448120</td>\n",
       "      <td>Clothing Stores</td>\n",
       "      <td>Women's Clothing Stores</td>\n",
       "      <td>NaN</td>\n",
       "      <td>NaN</td>\n",
       "      <td>[\"US\"]</td>\n",
       "      <td>[\"US\"]</td>\n",
       "    </tr>\n",
       "    <tr>\n",
       "      <th>1</th>\n",
       "      <td>SG_BRAND_12b20c8402b220acfe0e65dd113dbbc7</td>\n",
       "      <td>&amp;pizza</td>\n",
       "      <td>NaN</td>\n",
       "      <td>722511</td>\n",
       "      <td>Restaurants and Other Eating Places</td>\n",
       "      <td>Full-Service Restaurants</td>\n",
       "      <td>NaN</td>\n",
       "      <td>NaN</td>\n",
       "      <td>[\"US\"]</td>\n",
       "      <td>[]</td>\n",
       "    </tr>\n",
       "    <tr>\n",
       "      <th>2</th>\n",
       "      <td>SG_BRAND_6462594f4a598a94</td>\n",
       "      <td>1 Hotels</td>\n",
       "      <td>NaN</td>\n",
       "      <td>721110</td>\n",
       "      <td>Traveler Accommodation</td>\n",
       "      <td>Hotels (except Casino Hotels) and Motels</td>\n",
       "      <td>NaN</td>\n",
       "      <td>NaN</td>\n",
       "      <td>[\"US\"]</td>\n",
       "      <td>[]</td>\n",
       "    </tr>\n",
       "    <tr>\n",
       "      <th>3</th>\n",
       "      <td>SG_BRAND_407913c3eaadbdf961cbb276649f6618</td>\n",
       "      <td>1-800-Flowers</td>\n",
       "      <td>NaN</td>\n",
       "      <td>453110</td>\n",
       "      <td>Florists</td>\n",
       "      <td>Florists</td>\n",
       "      <td>FLWS</td>\n",
       "      <td>NASDAQ</td>\n",
       "      <td>[\"US\"]</td>\n",
       "      <td>[\"US\"]</td>\n",
       "    </tr>\n",
       "    <tr>\n",
       "      <th>4</th>\n",
       "      <td>SG_BRAND_8889b7aefb6aa0c9</td>\n",
       "      <td>1-Stop</td>\n",
       "      <td>SG_BRAND_424a47b33a953161</td>\n",
       "      <td>445120</td>\n",
       "      <td>Grocery Stores</td>\n",
       "      <td>Convenience Stores</td>\n",
       "      <td>NaN</td>\n",
       "      <td>NaN</td>\n",
       "      <td>[\"US\"]</td>\n",
       "      <td>[]</td>\n",
       "    </tr>\n",
       "  </tbody>\n",
       "</table>\n",
       "</div>"
      ],
      "text/plain": [
       "                          safegraph_brand_id       brand_name  \\\n",
       "0                  SG_BRAND_1ec16189589a76ef  & Other Stories   \n",
       "1  SG_BRAND_12b20c8402b220acfe0e65dd113dbbc7           &pizza   \n",
       "2                  SG_BRAND_6462594f4a598a94         1 Hotels   \n",
       "3  SG_BRAND_407913c3eaadbdf961cbb276649f6618    1-800-Flowers   \n",
       "4                  SG_BRAND_8889b7aefb6aa0c9           1-Stop   \n",
       "\n",
       "   parent_safegraph_brand_id  naics_code                         top_category  \\\n",
       "0                        NaN      448120                      Clothing Stores   \n",
       "1                        NaN      722511  Restaurants and Other Eating Places   \n",
       "2                        NaN      721110               Traveler Accommodation   \n",
       "3                        NaN      453110                             Florists   \n",
       "4  SG_BRAND_424a47b33a953161      445120                       Grocery Stores   \n",
       "\n",
       "                               sub_category stock_symbol stock_exchange  \\\n",
       "0                   Women's Clothing Stores          NaN            NaN   \n",
       "1                  Full-Service Restaurants          NaN            NaN   \n",
       "2  Hotels (except Casino Hotels) and Motels          NaN            NaN   \n",
       "3                                  Florists         FLWS         NASDAQ   \n",
       "4                        Convenience Stores          NaN            NaN   \n",
       "\n",
       "  iso_country_codes_open iso_country_codes_closed  \n",
       "0                 [\"US\"]                   [\"US\"]  \n",
       "1                 [\"US\"]                       []  \n",
       "2                 [\"US\"]                       []  \n",
       "3                 [\"US\"]                   [\"US\"]  \n",
       "4                 [\"US\"]                       []  "
      ]
     },
     "execution_count": 4,
     "metadata": {},
     "output_type": "execute_result"
    }
   ],
   "source": [
    "brands.head()"
   ]
  },
  {
   "cell_type": "code",
   "execution_count": 5,
   "id": "3081b983-5373-4598-8f5d-49f64538dd14",
   "metadata": {},
   "outputs": [
    {
     "data": {
      "text/plain": [
       "Restaurants and Other Eating Places                     2011\n",
       "Grocery Stores                                           758\n",
       "Clothing Stores                                          429\n",
       "Depository Credit Intermediation                         331\n",
       "Other Amusement and Recreation Industries                289\n",
       "Gasoline Stations                                        229\n",
       "Health and Personal Care Stores                          221\n",
       "Traveler Accommodation                                   219\n",
       "Offices of Physicians                                    174\n",
       "Personal Care Services                                   162\n",
       "Furniture Stores                                         148\n",
       "Sporting Goods, Hobby, and Musical Instrument Stores     129\n",
       "Automotive Parts, Accessories, and Tire Stores           122\n",
       "Automotive Repair and Maintenance                        117\n",
       "Shoe Stores                                              106\n",
       "Warehousing and Storage                                   96\n",
       "Jewelry, Luggage, and Leather Goods Stores                93\n",
       "Building Material and Supplies Dealers                    92\n",
       "Motion Picture and Video Industries                       90\n",
       "Other Miscellaneous Store Retailers                       84\n",
       "Name: top_category, dtype: int64"
      ]
     },
     "execution_count": 5,
     "metadata": {},
     "output_type": "execute_result"
    }
   ],
   "source": [
    "brands.top_category.value_counts().iloc[:20]"
   ]
  },
  {
   "cell_type": "markdown",
   "id": "b4573cf1",
   "metadata": {},
   "source": [
    "### May 2021 data for trial workflow"
   ]
  },
  {
   "cell_type": "code",
   "execution_count": 323,
   "id": "014c976b-636d-4ae0-8ddb-00c76e662ca9",
   "metadata": {},
   "outputs": [],
   "source": [
    "tmp_outfile = f'{TMP_DATA_DIR}/cleaned_202105.csv'"
   ]
  },
  {
   "cell_type": "markdown",
   "id": "47fc9af5-03f2-4430-b1b2-ace3e9ef4965",
   "metadata": {},
   "source": [
    "##### Part 1"
   ]
  },
  {
   "cell_type": "code",
   "execution_count": 287,
   "id": "37b940f0",
   "metadata": {},
   "outputs": [],
   "source": [
    "data_202105 = pd.read_csv(f'{DATA_DIR}/202105/patterns-part1.csv')"
   ]
  },
  {
   "cell_type": "code",
   "execution_count": 288,
   "id": "ac271fba",
   "metadata": {},
   "outputs": [
    {
     "data": {
      "text/html": [
       "<div>\n",
       "<style scoped>\n",
       "    .dataframe tbody tr th:only-of-type {\n",
       "        vertical-align: middle;\n",
       "    }\n",
       "\n",
       "    .dataframe tbody tr th {\n",
       "        vertical-align: top;\n",
       "    }\n",
       "\n",
       "    .dataframe thead th {\n",
       "        text-align: right;\n",
       "    }\n",
       "</style>\n",
       "<table border=\"1\" class=\"dataframe\">\n",
       "  <thead>\n",
       "    <tr style=\"text-align: right;\">\n",
       "      <th></th>\n",
       "      <th>placekey</th>\n",
       "      <th>parent_placekey</th>\n",
       "      <th>location_name</th>\n",
       "      <th>street_address</th>\n",
       "      <th>city</th>\n",
       "      <th>region</th>\n",
       "      <th>postal_code</th>\n",
       "      <th>safegraph_brand_ids</th>\n",
       "      <th>brands</th>\n",
       "      <th>date_range_start</th>\n",
       "      <th>...</th>\n",
       "      <th>visitor_daytime_cbgs</th>\n",
       "      <th>visitor_country_of_origin</th>\n",
       "      <th>distance_from_home</th>\n",
       "      <th>median_dwell</th>\n",
       "      <th>bucketed_dwell_times</th>\n",
       "      <th>related_same_day_brand</th>\n",
       "      <th>related_same_month_brand</th>\n",
       "      <th>popularity_by_hour</th>\n",
       "      <th>popularity_by_day</th>\n",
       "      <th>device_type</th>\n",
       "    </tr>\n",
       "  </thead>\n",
       "  <tbody>\n",
       "    <tr>\n",
       "      <th>0</th>\n",
       "      <td>222-222@3x5-4sw-d35</td>\n",
       "      <td>222-223@3x5-4sw-d35</td>\n",
       "      <td>Divine's Convenience &amp; Auto Repair Shops</td>\n",
       "      <td>1520 N Pines Rd</td>\n",
       "      <td>Spokane Valley</td>\n",
       "      <td>WA</td>\n",
       "      <td>99206</td>\n",
       "      <td>SG_BRAND_69d4a2b66d1aea33</td>\n",
       "      <td>Divine's Convenience &amp; Auto Repair Shops</td>\n",
       "      <td>2021-05-01T00:00:00-07:00</td>\n",
       "      <td>...</td>\n",
       "      <td>{\"530610519281\":6,\"530630103011\":4,\"5306301320...</td>\n",
       "      <td>{\"US\":29}</td>\n",
       "      <td>12123.0</td>\n",
       "      <td>8.0</td>\n",
       "      <td>{\"&lt;5\":0,\"5-10\":35,\"11-20\":5,\"21-60\":0,\"61-120\"...</td>\n",
       "      <td>{\"76\":100,\"Starbucks\":8,\"Target\":5,\"Greyhound\"...</td>\n",
       "      <td>{\"76\":100,\"ConocoPhillips\":48,\"Walmart\":45,\"Ta...</td>\n",
       "      <td>[0,0,0,0,0,0,0,2,0,1,1,3,4,2,6,11,3,1,4,2,1,1,...</td>\n",
       "      <td>{\"Monday\":10,\"Tuesday\":4,\"Wednesday\":8,\"Thursd...</td>\n",
       "      <td>{\"android\":18,\"ios\":12}</td>\n",
       "    </tr>\n",
       "    <tr>\n",
       "      <th>1</th>\n",
       "      <td>224-222@63r-6hr-5pv</td>\n",
       "      <td>NaN</td>\n",
       "      <td>Fallsgrove Center for Dentistry</td>\n",
       "      <td>14955 Shady Grove Rd Ste 200</td>\n",
       "      <td>Rockville</td>\n",
       "      <td>MD</td>\n",
       "      <td>20850</td>\n",
       "      <td>NaN</td>\n",
       "      <td>NaN</td>\n",
       "      <td>2021-05-01T00:00:00-04:00</td>\n",
       "      <td>...</td>\n",
       "      <td>{\"240317009021\":6,\"240317003121\":4,\"2403170060...</td>\n",
       "      <td>{\"US\":21}</td>\n",
       "      <td>10363.0</td>\n",
       "      <td>55.0</td>\n",
       "      <td>{\"&lt;5\":0,\"5-10\":5,\"11-20\":5,\"21-60\":7,\"61-120\":...</td>\n",
       "      <td>{\"Safeway Pharmacy\":10,\"Walmart\":3,\"Chevrolet\"...</td>\n",
       "      <td>{\"CVS\":55,\"Starbucks\":41,\"Costco\":41,\"Target\":...</td>\n",
       "      <td>[0,0,0,0,0,0,0,5,9,12,11,9,8,9,13,14,8,3,0,0,0...</td>\n",
       "      <td>{\"Monday\":5,\"Tuesday\":6,\"Wednesday\":4,\"Thursda...</td>\n",
       "      <td>{\"android\":13,\"ios\":8}</td>\n",
       "    </tr>\n",
       "    <tr>\n",
       "      <th>2</th>\n",
       "      <td>zzw-222@63r-6y3-45f</td>\n",
       "      <td>NaN</td>\n",
       "      <td>CubeSmart</td>\n",
       "      <td>44 Research Pl</td>\n",
       "      <td>Rockville</td>\n",
       "      <td>MD</td>\n",
       "      <td>20850</td>\n",
       "      <td>SG_BRAND_3609f80e8ab3db987d9be5010a726c20</td>\n",
       "      <td>CubeSmart</td>\n",
       "      <td>2021-05-01T00:00:00-04:00</td>\n",
       "      <td>...</td>\n",
       "      <td>{\"370250413032\":4,\"200910516003\":4,\"2403380390...</td>\n",
       "      <td>{\"US\":11}</td>\n",
       "      <td>56944.0</td>\n",
       "      <td>16.0</td>\n",
       "      <td>{\"&lt;5\":0,\"5-10\":5,\"11-20\":3,\"21-60\":5,\"61-120\":...</td>\n",
       "      <td>{\"Marriott Hotels\":31,\"Exxon Mobil\":23,\"Quizno...</td>\n",
       "      <td>{\"Shell Oil\":82,\"Exxon Mobil\":64,\"Target\":45,\"...</td>\n",
       "      <td>[0,0,0,0,0,0,0,0,1,0,1,3,4,7,3,1,2,2,0,0,0,0,0,0]</td>\n",
       "      <td>{\"Monday\":5,\"Tuesday\":0,\"Wednesday\":1,\"Thursda...</td>\n",
       "      <td>{\"android\":5,\"ios\":5}</td>\n",
       "    </tr>\n",
       "    <tr>\n",
       "      <th>3</th>\n",
       "      <td>227-222@629-fv8-xqz</td>\n",
       "      <td>NaN</td>\n",
       "      <td>United States Postal Service (USPS)</td>\n",
       "      <td>3619 Route 52</td>\n",
       "      <td>Walker Valley</td>\n",
       "      <td>NY</td>\n",
       "      <td>12588</td>\n",
       "      <td>SG_BRAND_27ee73cd1fb6f5e432852fea401eacce</td>\n",
       "      <td>United States Postal Service (USPS)</td>\n",
       "      <td>2021-05-01T00:00:00-04:00</td>\n",
       "      <td>...</td>\n",
       "      <td>{\"360710114001\":4}</td>\n",
       "      <td>{\"US\":6}</td>\n",
       "      <td>14501.0</td>\n",
       "      <td>15.0</td>\n",
       "      <td>{\"&lt;5\":1,\"5-10\":2,\"11-20\":3,\"21-60\":2,\"61-120\":...</td>\n",
       "      <td>{\"Mobil\":22,\"Hannaford Supermarkets\":11,\"Five ...</td>\n",
       "      <td>{\"Five Below\":63,\"Mobil\":63,\"McDonald's\":63,\"D...</td>\n",
       "      <td>[0,0,0,0,0,0,0,0,0,0,1,1,0,2,2,2,1,2,1,0,0,1,0,0]</td>\n",
       "      <td>{\"Monday\":2,\"Tuesday\":1,\"Wednesday\":2,\"Thursda...</td>\n",
       "      <td>{\"android\":0,\"ios\":6}</td>\n",
       "    </tr>\n",
       "    <tr>\n",
       "      <th>4</th>\n",
       "      <td>zzy-222@8gf-y8m-qcq</td>\n",
       "      <td>NaN</td>\n",
       "      <td>Tropical Smoothie Café</td>\n",
       "      <td>10725 Us 501</td>\n",
       "      <td>Southern Pines</td>\n",
       "      <td>NC</td>\n",
       "      <td>28387</td>\n",
       "      <td>SG_BRAND_321fb519b4bdd1052f599b2740228cc1</td>\n",
       "      <td>Tropical Smoothie Café</td>\n",
       "      <td>2021-05-01T00:00:00-04:00</td>\n",
       "      <td>...</td>\n",
       "      <td>{\"371259507021\":7,\"371259506022\":5,\"3712595080...</td>\n",
       "      <td>{\"US\":90}</td>\n",
       "      <td>13155.0</td>\n",
       "      <td>10.0</td>\n",
       "      <td>{\"&lt;5\":7,\"5-10\":48,\"11-20\":12,\"21-60\":15,\"61-12...</td>\n",
       "      <td>{\"Chick-fil-A\":14,\"Walmart\":9,\"Kohl's\":8,\"McDo...</td>\n",
       "      <td>{\"Walmart\":72,\"Chick-fil-A\":68,\"McDonald's\":61...</td>\n",
       "      <td>[0,0,0,0,0,0,2,2,6,12,11,11,17,18,13,10,13,21,...</td>\n",
       "      <td>{\"Monday\":18,\"Tuesday\":14,\"Wednesday\":13,\"Thur...</td>\n",
       "      <td>{\"android\":29,\"ios\":63}</td>\n",
       "    </tr>\n",
       "  </tbody>\n",
       "</table>\n",
       "<p>5 rows × 27 columns</p>\n",
       "</div>"
      ],
      "text/plain": [
       "              placekey      parent_placekey  \\\n",
       "0  222-222@3x5-4sw-d35  222-223@3x5-4sw-d35   \n",
       "1  224-222@63r-6hr-5pv                  NaN   \n",
       "2  zzw-222@63r-6y3-45f                  NaN   \n",
       "3  227-222@629-fv8-xqz                  NaN   \n",
       "4  zzy-222@8gf-y8m-qcq                  NaN   \n",
       "\n",
       "                              location_name                street_address  \\\n",
       "0  Divine's Convenience & Auto Repair Shops               1520 N Pines Rd   \n",
       "1           Fallsgrove Center for Dentistry  14955 Shady Grove Rd Ste 200   \n",
       "2                                 CubeSmart                44 Research Pl   \n",
       "3       United States Postal Service (USPS)                 3619 Route 52   \n",
       "4                    Tropical Smoothie Café                  10725 Us 501   \n",
       "\n",
       "             city region  postal_code  \\\n",
       "0  Spokane Valley     WA        99206   \n",
       "1       Rockville     MD        20850   \n",
       "2       Rockville     MD        20850   \n",
       "3   Walker Valley     NY        12588   \n",
       "4  Southern Pines     NC        28387   \n",
       "\n",
       "                         safegraph_brand_ids  \\\n",
       "0                  SG_BRAND_69d4a2b66d1aea33   \n",
       "1                                        NaN   \n",
       "2  SG_BRAND_3609f80e8ab3db987d9be5010a726c20   \n",
       "3  SG_BRAND_27ee73cd1fb6f5e432852fea401eacce   \n",
       "4  SG_BRAND_321fb519b4bdd1052f599b2740228cc1   \n",
       "\n",
       "                                     brands           date_range_start  ...  \\\n",
       "0  Divine's Convenience & Auto Repair Shops  2021-05-01T00:00:00-07:00  ...   \n",
       "1                                       NaN  2021-05-01T00:00:00-04:00  ...   \n",
       "2                                 CubeSmart  2021-05-01T00:00:00-04:00  ...   \n",
       "3       United States Postal Service (USPS)  2021-05-01T00:00:00-04:00  ...   \n",
       "4                    Tropical Smoothie Café  2021-05-01T00:00:00-04:00  ...   \n",
       "\n",
       "                                visitor_daytime_cbgs  \\\n",
       "0  {\"530610519281\":6,\"530630103011\":4,\"5306301320...   \n",
       "1  {\"240317009021\":6,\"240317003121\":4,\"2403170060...   \n",
       "2  {\"370250413032\":4,\"200910516003\":4,\"2403380390...   \n",
       "3                                 {\"360710114001\":4}   \n",
       "4  {\"371259507021\":7,\"371259506022\":5,\"3712595080...   \n",
       "\n",
       "   visitor_country_of_origin  distance_from_home median_dwell  \\\n",
       "0                  {\"US\":29}             12123.0          8.0   \n",
       "1                  {\"US\":21}             10363.0         55.0   \n",
       "2                  {\"US\":11}             56944.0         16.0   \n",
       "3                   {\"US\":6}             14501.0         15.0   \n",
       "4                  {\"US\":90}             13155.0         10.0   \n",
       "\n",
       "                                bucketed_dwell_times  \\\n",
       "0  {\"<5\":0,\"5-10\":35,\"11-20\":5,\"21-60\":0,\"61-120\"...   \n",
       "1  {\"<5\":0,\"5-10\":5,\"11-20\":5,\"21-60\":7,\"61-120\":...   \n",
       "2  {\"<5\":0,\"5-10\":5,\"11-20\":3,\"21-60\":5,\"61-120\":...   \n",
       "3  {\"<5\":1,\"5-10\":2,\"11-20\":3,\"21-60\":2,\"61-120\":...   \n",
       "4  {\"<5\":7,\"5-10\":48,\"11-20\":12,\"21-60\":15,\"61-12...   \n",
       "\n",
       "                              related_same_day_brand  \\\n",
       "0  {\"76\":100,\"Starbucks\":8,\"Target\":5,\"Greyhound\"...   \n",
       "1  {\"Safeway Pharmacy\":10,\"Walmart\":3,\"Chevrolet\"...   \n",
       "2  {\"Marriott Hotels\":31,\"Exxon Mobil\":23,\"Quizno...   \n",
       "3  {\"Mobil\":22,\"Hannaford Supermarkets\":11,\"Five ...   \n",
       "4  {\"Chick-fil-A\":14,\"Walmart\":9,\"Kohl's\":8,\"McDo...   \n",
       "\n",
       "                            related_same_month_brand  \\\n",
       "0  {\"76\":100,\"ConocoPhillips\":48,\"Walmart\":45,\"Ta...   \n",
       "1  {\"CVS\":55,\"Starbucks\":41,\"Costco\":41,\"Target\":...   \n",
       "2  {\"Shell Oil\":82,\"Exxon Mobil\":64,\"Target\":45,\"...   \n",
       "3  {\"Five Below\":63,\"Mobil\":63,\"McDonald's\":63,\"D...   \n",
       "4  {\"Walmart\":72,\"Chick-fil-A\":68,\"McDonald's\":61...   \n",
       "\n",
       "                                  popularity_by_hour  \\\n",
       "0  [0,0,0,0,0,0,0,2,0,1,1,3,4,2,6,11,3,1,4,2,1,1,...   \n",
       "1  [0,0,0,0,0,0,0,5,9,12,11,9,8,9,13,14,8,3,0,0,0...   \n",
       "2  [0,0,0,0,0,0,0,0,1,0,1,3,4,7,3,1,2,2,0,0,0,0,0,0]   \n",
       "3  [0,0,0,0,0,0,0,0,0,0,1,1,0,2,2,2,1,2,1,0,0,1,0,0]   \n",
       "4  [0,0,0,0,0,0,2,2,6,12,11,11,17,18,13,10,13,21,...   \n",
       "\n",
       "                                   popularity_by_day              device_type  \n",
       "0  {\"Monday\":10,\"Tuesday\":4,\"Wednesday\":8,\"Thursd...  {\"android\":18,\"ios\":12}  \n",
       "1  {\"Monday\":5,\"Tuesday\":6,\"Wednesday\":4,\"Thursda...   {\"android\":13,\"ios\":8}  \n",
       "2  {\"Monday\":5,\"Tuesday\":0,\"Wednesday\":1,\"Thursda...    {\"android\":5,\"ios\":5}  \n",
       "3  {\"Monday\":2,\"Tuesday\":1,\"Wednesday\":2,\"Thursda...    {\"android\":0,\"ios\":6}  \n",
       "4  {\"Monday\":18,\"Tuesday\":14,\"Wednesday\":13,\"Thur...  {\"android\":29,\"ios\":63}  \n",
       "\n",
       "[5 rows x 27 columns]"
      ]
     },
     "execution_count": 288,
     "metadata": {},
     "output_type": "execute_result"
    }
   ],
   "source": [
    "data_202105.head()"
   ]
  },
  {
   "cell_type": "code",
   "execution_count": 235,
   "id": "24cadd2a",
   "metadata": {},
   "outputs": [
    {
     "data": {
      "text/plain": [
       "placekey                                                   222-222@3x5-4sw-d35\n",
       "parent_placekey                                            222-223@3x5-4sw-d35\n",
       "location_name                         Divine's Convenience & Auto Repair Shops\n",
       "street_address                                                 1520 N Pines Rd\n",
       "city                                                            Spokane Valley\n",
       "region                                                                      WA\n",
       "postal_code                                                              99206\n",
       "safegraph_brand_ids                                  SG_BRAND_69d4a2b66d1aea33\n",
       "brands                                Divine's Convenience & Auto Repair Shops\n",
       "date_range_start                                     2021-05-01T00:00:00-07:00\n",
       "date_range_end                                       2021-06-01T00:00:00-07:00\n",
       "raw_visit_counts                                                            40\n",
       "raw_visitor_counts                                                          31\n",
       "visits_by_day                [2,0,1,1,3,0,0,0,1,4,1,1,0,1,4,0,0,0,1,2,3,0,1...\n",
       "poi_cbg                                                           530630118001\n",
       "visitor_home_cbgs            {\"530250104001\":6,\"530630132011\":4,\"1605500180...\n",
       "visitor_home_aggregation     {\"53063003100\":6,\"16055000700\":4,\"53063013500\"...\n",
       "visitor_daytime_cbgs         {\"530610519281\":6,\"530630103011\":4,\"5306301320...\n",
       "visitor_country_of_origin                                            {\"US\":29}\n",
       "distance_from_home                                                     12123.0\n",
       "median_dwell                                                               8.0\n",
       "bucketed_dwell_times         {\"<5\":0,\"5-10\":35,\"11-20\":5,\"21-60\":0,\"61-120\"...\n",
       "related_same_day_brand       {\"76\":100,\"Starbucks\":8,\"Target\":5,\"Greyhound\"...\n",
       "related_same_month_brand     {\"76\":100,\"ConocoPhillips\":48,\"Walmart\":45,\"Ta...\n",
       "popularity_by_hour           [0,0,0,0,0,0,0,2,0,1,1,3,4,2,6,11,3,1,4,2,1,1,...\n",
       "popularity_by_day            {\"Monday\":10,\"Tuesday\":4,\"Wednesday\":8,\"Thursd...\n",
       "device_type                                            {\"android\":18,\"ios\":12}\n",
       "Name: 0, dtype: object"
      ]
     },
     "execution_count": 235,
     "metadata": {},
     "output_type": "execute_result"
    }
   ],
   "source": [
    "data_202105.iloc[0]"
   ]
  },
  {
   "cell_type": "code",
   "execution_count": 236,
   "id": "98c95a8b",
   "metadata": {},
   "outputs": [
    {
     "data": {
      "text/plain": [
       "2021-05-01T00:00:00-04:00    604328\n",
       "2021-05-01T00:00:00-05:00    397418\n",
       "2021-05-01T00:00:00-07:00    235035\n",
       "2021-05-01T00:00:00-06:00     64287\n",
       "2021-05-01T00:00:00-10:00      5721\n",
       "2021-05-01T00:00:00-08:00      2985\n",
       "2021-05-01T00:00:00-03:00        37\n",
       "2021-05-01T00:00:00+10:00        12\n",
       "Name: date_range_start, dtype: int64"
      ]
     },
     "execution_count": 236,
     "metadata": {},
     "output_type": "execute_result"
    }
   ],
   "source": [
    "data_202105.date_range_start.value_counts()"
   ]
  },
  {
   "cell_type": "code",
   "execution_count": 237,
   "id": "06313152",
   "metadata": {},
   "outputs": [
    {
     "data": {
      "text/plain": [
       "2021-06-01T00:00:00-04:00    604328\n",
       "2021-06-01T00:00:00-05:00    397418\n",
       "2021-06-01T00:00:00-07:00    235035\n",
       "2021-06-01T00:00:00-06:00     64287\n",
       "2021-06-01T00:00:00-10:00      5721\n",
       "2021-06-01T00:00:00-08:00      2985\n",
       "2021-06-01T00:00:00-03:00        37\n",
       "2021-06-01T00:00:00+10:00        12\n",
       "Name: date_range_end, dtype: int64"
      ]
     },
     "execution_count": 237,
     "metadata": {},
     "output_type": "execute_result"
    }
   ],
   "source": [
    "data_202105.date_range_end.value_counts()"
   ]
  },
  {
   "cell_type": "code",
   "execution_count": 238,
   "id": "2413edb2",
   "metadata": {},
   "outputs": [
    {
     "data": {
      "text/plain": [
       "United States Postal Service (USPS)                7596\n",
       "Subway                                             5974\n",
       "Dollar General                                     5014\n",
       "Shell Oil                                          3724\n",
       "McDonald's                                         3550\n",
       "                                                   ... \n",
       "Volkswagen,Hyundai Motor,Volvo                        1\n",
       "Silver Mine Subs                                      1\n",
       "Dodge,FIAT,Chrysler,Ford Motor Company,Ram,Jeep       1\n",
       "Acura,Subaru                                          1\n",
       "Local Cantina                                         1\n",
       "Name: brands, Length: 5796, dtype: int64"
      ]
     },
     "execution_count": 238,
     "metadata": {},
     "output_type": "execute_result"
    }
   ],
   "source": [
    "data_202105.brands.value_counts()"
   ]
  },
  {
   "cell_type": "markdown",
   "id": "4f6353f5-cb41-49d1-978d-fb20acbb355d",
   "metadata": {},
   "source": [
    "#### Investigate distribution of brands"
   ]
  },
  {
   "cell_type": "code",
   "execution_count": 289,
   "id": "5287372a-4d63-4037-9c48-a8b5a8ccf6ed",
   "metadata": {},
   "outputs": [],
   "source": [
    "brand_ids_list = data_202105.safegraph_brand_ids.str.split(',')"
   ]
  },
  {
   "cell_type": "code",
   "execution_count": 290,
   "id": "a2412358-2be1-41e1-bd14-3f56418e8214",
   "metadata": {},
   "outputs": [],
   "source": [
    "data_202105['brand_ids_len'] = brand_ids_list.apply(lambda b: b if type(b) == float else len(b))"
   ]
  },
  {
   "cell_type": "code",
   "execution_count": 291,
   "id": "daae935d-d9ed-4922-98e2-6ed13f0f9585",
   "metadata": {},
   "outputs": [
    {
     "data": {
      "text/plain": [
       "1.0     274142\n",
       "2.0       1012\n",
       "4.0        558\n",
       "3.0        311\n",
       "5.0        180\n",
       "6.0         60\n",
       "7.0         34\n",
       "8.0         21\n",
       "9.0         10\n",
       "10.0         4\n",
       "12.0         1\n",
       "Name: brand_ids_len, dtype: int64"
      ]
     },
     "execution_count": 291,
     "metadata": {},
     "output_type": "execute_result"
    }
   ],
   "source": [
    "data_202105.brand_ids_len.value_counts()"
   ]
  },
  {
   "cell_type": "code",
   "execution_count": 292,
   "id": "e4a7a014-c083-4bc2-9212-2eb8200659e9",
   "metadata": {},
   "outputs": [],
   "source": [
    "data_202105['brands_len'] = data_202105.brands.str.split(',').apply(lambda b: b if type(b) == float else len(b))"
   ]
  },
  {
   "cell_type": "code",
   "execution_count": 293,
   "id": "73a398fe-fefc-4ff4-b0f7-4cae09ae73da",
   "metadata": {},
   "outputs": [
    {
     "data": {
      "text/plain": [
       "1.0     273922\n",
       "2.0       1156\n",
       "4.0        558\n",
       "3.0        311\n",
       "5.0        180\n",
       "6.0         60\n",
       "7.0         34\n",
       "8.0         21\n",
       "9.0         10\n",
       "10.0         4\n",
       "12.0         1\n",
       "Name: brands_len, dtype: int64"
      ]
     },
     "execution_count": 293,
     "metadata": {},
     "output_type": "execute_result"
    }
   ],
   "source": [
    "data_202105.brands_len.value_counts()"
   ]
  },
  {
   "cell_type": "code",
   "execution_count": 294,
   "id": "ec1752ce-8bc9-4d5b-b445-bd543fb297d8",
   "metadata": {},
   "outputs": [
    {
     "data": {
      "text/plain": [
       "276113"
      ]
     },
     "execution_count": 294,
     "metadata": {},
     "output_type": "execute_result"
    }
   ],
   "source": [
    "(data_202105.brand_ids_len == data_202105.brands_len).sum()"
   ]
  },
  {
   "cell_type": "code",
   "execution_count": 295,
   "id": "f447f7c6-b449-4993-9fad-889a6e27f169",
   "metadata": {},
   "outputs": [
    {
     "data": {
      "text/plain": [
       "1033490"
      ]
     },
     "execution_count": 295,
     "metadata": {},
     "output_type": "execute_result"
    }
   ],
   "source": [
    "data_202105.brand_ids_len.isna().sum()"
   ]
  },
  {
   "cell_type": "code",
   "execution_count": 296,
   "id": "38c0cf06-0532-4dec-aada-8f520abfd7d4",
   "metadata": {},
   "outputs": [
    {
     "data": {
      "text/plain": [
       "1309603"
      ]
     },
     "execution_count": 296,
     "metadata": {},
     "output_type": "execute_result"
    }
   ],
   "source": [
    "(data_202105.brand_ids_len.isna() | (data_202105.brand_ids_len == data_202105.brands_len)).sum()"
   ]
  },
  {
   "cell_type": "code",
   "execution_count": 297,
   "id": "f3a30f40-9753-40ff-869c-9431dcd51db9",
   "metadata": {},
   "outputs": [
    {
     "data": {
      "text/html": [
       "<div>\n",
       "<style scoped>\n",
       "    .dataframe tbody tr th:only-of-type {\n",
       "        vertical-align: middle;\n",
       "    }\n",
       "\n",
       "    .dataframe tbody tr th {\n",
       "        vertical-align: top;\n",
       "    }\n",
       "\n",
       "    .dataframe thead th {\n",
       "        text-align: right;\n",
       "    }\n",
       "</style>\n",
       "<table border=\"1\" class=\"dataframe\">\n",
       "  <thead>\n",
       "    <tr style=\"text-align: right;\">\n",
       "      <th></th>\n",
       "      <th>safegraph_brand_ids</th>\n",
       "      <th>brands</th>\n",
       "    </tr>\n",
       "  </thead>\n",
       "  <tbody>\n",
       "    <tr>\n",
       "      <th>10422</th>\n",
       "      <td>SG_BRAND_95d73693be1b43d2dfa50b443153cd97</td>\n",
       "      <td>NaN</td>\n",
       "    </tr>\n",
       "    <tr>\n",
       "      <th>15348</th>\n",
       "      <td>SG_BRAND_58b2e817dbfc473f</td>\n",
       "      <td>NaN</td>\n",
       "    </tr>\n",
       "    <tr>\n",
       "      <th>15540</th>\n",
       "      <td>SG_BRAND_956bf83fb00e1e3234edc3c8ebc4573d</td>\n",
       "      <td>Spec's Wine, Spirits &amp; Finer Foods</td>\n",
       "    </tr>\n",
       "    <tr>\n",
       "      <th>17357</th>\n",
       "      <td>SG_BRAND_956bf83fb00e1e3234edc3c8ebc4573d</td>\n",
       "      <td>Spec's Wine, Spirits &amp; Finer Foods</td>\n",
       "    </tr>\n",
       "    <tr>\n",
       "      <th>25163</th>\n",
       "      <td>SG_BRAND_da1314a01c3f1ec8</td>\n",
       "      <td>PeoplesBank, A Codorus Valley Company</td>\n",
       "    </tr>\n",
       "    <tr>\n",
       "      <th>...</th>\n",
       "      <td>...</td>\n",
       "      <td>...</td>\n",
       "    </tr>\n",
       "    <tr>\n",
       "      <th>1280628</th>\n",
       "      <td>SG_BRAND_11abdd1d8b16cb4a</td>\n",
       "      <td>Lotte Plaza, Lotte Market</td>\n",
       "    </tr>\n",
       "    <tr>\n",
       "      <th>1280815</th>\n",
       "      <td>SG_BRAND_f541bcb6ec62de093416a7c8de510e84</td>\n",
       "      <td>FNB Bank, N.A.</td>\n",
       "    </tr>\n",
       "    <tr>\n",
       "      <th>1290851</th>\n",
       "      <td>SG_BRAND_f541bcb6ec62de093416a7c8de510e84</td>\n",
       "      <td>FNB Bank, N.A.</td>\n",
       "    </tr>\n",
       "    <tr>\n",
       "      <th>1307692</th>\n",
       "      <td>SG_BRAND_f541bcb6ec62de093416a7c8de510e84</td>\n",
       "      <td>FNB Bank, N.A.</td>\n",
       "    </tr>\n",
       "    <tr>\n",
       "      <th>1307959</th>\n",
       "      <td>SG_BRAND_ef6c9ffef7c841f34646fcbac7bf2118</td>\n",
       "      <td>Samuel, Son &amp; Co.</td>\n",
       "    </tr>\n",
       "  </tbody>\n",
       "</table>\n",
       "<p>220 rows × 2 columns</p>\n",
       "</div>"
      ],
      "text/plain": [
       "                               safegraph_brand_ids  \\\n",
       "10422    SG_BRAND_95d73693be1b43d2dfa50b443153cd97   \n",
       "15348                    SG_BRAND_58b2e817dbfc473f   \n",
       "15540    SG_BRAND_956bf83fb00e1e3234edc3c8ebc4573d   \n",
       "17357    SG_BRAND_956bf83fb00e1e3234edc3c8ebc4573d   \n",
       "25163                    SG_BRAND_da1314a01c3f1ec8   \n",
       "...                                            ...   \n",
       "1280628                  SG_BRAND_11abdd1d8b16cb4a   \n",
       "1280815  SG_BRAND_f541bcb6ec62de093416a7c8de510e84   \n",
       "1290851  SG_BRAND_f541bcb6ec62de093416a7c8de510e84   \n",
       "1307692  SG_BRAND_f541bcb6ec62de093416a7c8de510e84   \n",
       "1307959  SG_BRAND_ef6c9ffef7c841f34646fcbac7bf2118   \n",
       "\n",
       "                                        brands  \n",
       "10422                                      NaN  \n",
       "15348                                      NaN  \n",
       "15540       Spec's Wine, Spirits & Finer Foods  \n",
       "17357       Spec's Wine, Spirits & Finer Foods  \n",
       "25163    PeoplesBank, A Codorus Valley Company  \n",
       "...                                        ...  \n",
       "1280628              Lotte Plaza, Lotte Market  \n",
       "1280815                         FNB Bank, N.A.  \n",
       "1290851                         FNB Bank, N.A.  \n",
       "1307692                         FNB Bank, N.A.  \n",
       "1307959                      Samuel, Son & Co.  \n",
       "\n",
       "[220 rows x 2 columns]"
      ]
     },
     "execution_count": 297,
     "metadata": {},
     "output_type": "execute_result"
    }
   ],
   "source": [
    "data_202105[['safegraph_brand_ids', 'brands']][data_202105.brand_ids_len.notna() & (data_202105.brand_ids_len != data_202105.brands_len)]"
   ]
  },
  {
   "cell_type": "markdown",
   "id": "3b518652-889b-475b-a811-1f11b07b2ea8",
   "metadata": {},
   "source": [
    "The data indicates that considering only entries with brand_ids_len of 1 (1 brand ID) would be reasonable and feasible."
   ]
  },
  {
   "cell_type": "code",
   "execution_count": 298,
   "id": "7b4c38c6-ab22-4077-a2cf-53a10635b7e5",
   "metadata": {},
   "outputs": [],
   "source": [
    "data_202105['safegraph_brand_id'] = brand_ids_list.apply(lambda li: li if type(li) == float else li[0])"
   ]
  },
  {
   "cell_type": "code",
   "execution_count": 299,
   "id": "ed21420b-3171-419f-afe4-9e9af359b655",
   "metadata": {},
   "outputs": [],
   "source": [
    "data_202105 = data_202105.merge(brands[['safegraph_brand_id', 'top_category', 'sub_category']], on='safegraph_brand_id')"
   ]
  },
  {
   "cell_type": "code",
   "execution_count": 300,
   "id": "cdca4e35-6fc8-4820-9302-0ed75511abd9",
   "metadata": {},
   "outputs": [],
   "source": [
    "keep_cols = ['city', 'region', 'safegraph_brand_id', 'top_category', 'sub_category', 'safegraph_brand_ids', 'brands',\n",
    "             'brand_ids_len', 'brands_len', 'raw_visit_counts', 'raw_visitor_counts', 'visits_by_day', 'poi_cbg', 'median_dwell']"
   ]
  },
  {
   "cell_type": "code",
   "execution_count": 301,
   "id": "564a7663-9d0f-411b-848c-a0515699167c",
   "metadata": {},
   "outputs": [],
   "source": [
    "dt_split = data_202105.date_range_start.str.split('-')\n",
    "data_202105 = data_202105[keep_cols]\n",
    "data_202105['year'] = dt_split.apply(lambda d: int(d[0]))\n",
    "data_202105['month'] = dt_split.apply(lambda d: int(d[1]))"
   ]
  },
  {
   "cell_type": "code",
   "execution_count": 302,
   "id": "a55155ca-d320-4d04-989f-ac18592ad3ba",
   "metadata": {},
   "outputs": [
    {
     "data": {
      "text/plain": [
       "(276262, 16)"
      ]
     },
     "execution_count": 302,
     "metadata": {},
     "output_type": "execute_result"
    }
   ],
   "source": [
    "data_202105.shape"
   ]
  },
  {
   "cell_type": "code",
   "execution_count": 303,
   "id": "e4afbad5",
   "metadata": {},
   "outputs": [],
   "source": [
    "data_202105.to_csv(f'{TMP_DATA_DIR}/cleaned_202105.csv', index=False, mode='a')"
   ]
  },
  {
   "cell_type": "code",
   "execution_count": 304,
   "id": "bd105ad7-b4a1-4db6-b499-16667451c36f",
   "metadata": {},
   "outputs": [
    {
     "name": "stdout",
     "output_type": "stream",
     "text": [
      "276263 ../../data/cleaned_202105.csv\n"
     ]
    }
   ],
   "source": [
    "!wc -l $TMP_DATA_DIR/cleaned_202105.csv"
   ]
  },
  {
   "cell_type": "markdown",
   "id": "e06ec51d-1426-40eb-b696-1eb57288b36b",
   "metadata": {},
   "source": [
    "##### Part 2"
   ]
  },
  {
   "cell_type": "code",
   "execution_count": 305,
   "id": "21b46902",
   "metadata": {},
   "outputs": [
    {
     "name": "stderr",
     "output_type": "stream",
     "text": [
      "/home/yffl/.local/lib/python3.8/site-packages/IPython/core/interactiveshell.py:3441: DtypeWarning: Columns (14) have mixed types.Specify dtype option on import or set low_memory=False.\n",
      "  exec(code_obj, self.user_global_ns, self.user_ns)\n"
     ]
    }
   ],
   "source": [
    "data_202105_p2 = pd.read_csv(f'{DATA_DIR}/202105/patterns-part2.csv')"
   ]
  },
  {
   "cell_type": "markdown",
   "id": "aadf4840",
   "metadata": {},
   "source": [
    "Sanity checks..."
   ]
  },
  {
   "cell_type": "code",
   "execution_count": 306,
   "id": "f33ad16f",
   "metadata": {},
   "outputs": [
    {
     "data": {
      "text/html": [
       "<div>\n",
       "<style scoped>\n",
       "    .dataframe tbody tr th:only-of-type {\n",
       "        vertical-align: middle;\n",
       "    }\n",
       "\n",
       "    .dataframe tbody tr th {\n",
       "        vertical-align: top;\n",
       "    }\n",
       "\n",
       "    .dataframe thead th {\n",
       "        text-align: right;\n",
       "    }\n",
       "</style>\n",
       "<table border=\"1\" class=\"dataframe\">\n",
       "  <thead>\n",
       "    <tr style=\"text-align: right;\">\n",
       "      <th></th>\n",
       "      <th>placekey</th>\n",
       "      <th>parent_placekey</th>\n",
       "      <th>location_name</th>\n",
       "      <th>street_address</th>\n",
       "      <th>city</th>\n",
       "      <th>region</th>\n",
       "      <th>postal_code</th>\n",
       "      <th>safegraph_brand_ids</th>\n",
       "      <th>brands</th>\n",
       "      <th>date_range_start</th>\n",
       "      <th>...</th>\n",
       "      <th>visitor_daytime_cbgs</th>\n",
       "      <th>visitor_country_of_origin</th>\n",
       "      <th>distance_from_home</th>\n",
       "      <th>median_dwell</th>\n",
       "      <th>bucketed_dwell_times</th>\n",
       "      <th>related_same_day_brand</th>\n",
       "      <th>related_same_month_brand</th>\n",
       "      <th>popularity_by_hour</th>\n",
       "      <th>popularity_by_day</th>\n",
       "      <th>device_type</th>\n",
       "    </tr>\n",
       "  </thead>\n",
       "  <tbody>\n",
       "    <tr>\n",
       "      <th>0</th>\n",
       "      <td>zzz-222@63f-w7s-rrk</td>\n",
       "      <td>NaN</td>\n",
       "      <td>Vrfa Land Donation</td>\n",
       "      <td>Vrfa Land Donation</td>\n",
       "      <td>Salem</td>\n",
       "      <td>VA</td>\n",
       "      <td>24153</td>\n",
       "      <td>NaN</td>\n",
       "      <td>NaN</td>\n",
       "      <td>2021-05-01T00:00:00-04:00</td>\n",
       "      <td>...</td>\n",
       "      <td>{\"511610302042\":7,\"511610310002\":4,\"5116103070...</td>\n",
       "      <td>{\"US\":22}</td>\n",
       "      <td>15074.0</td>\n",
       "      <td>46.0</td>\n",
       "      <td>{\"&lt;5\":0,\"5-10\":6,\"11-20\":3,\"21-60\":8,\"61-120\":...</td>\n",
       "      <td>{\"Sheetz\":13,\"McDonald's\":10,\"Chick-fil-A\":7,\"...</td>\n",
       "      <td>{\"Walmart\":73,\"Sheetz\":73,\"McDonald's\":55,\"Chi...</td>\n",
       "      <td>[0,0,0,0,0,0,0,0,1,1,1,1,6,10,10,9,8,6,6,4,0,0...</td>\n",
       "      <td>{\"Monday\":7,\"Tuesday\":4,\"Wednesday\":3,\"Thursda...</td>\n",
       "      <td>{\"android\":4,\"ios\":16}</td>\n",
       "    </tr>\n",
       "    <tr>\n",
       "      <th>1</th>\n",
       "      <td>zzw-223@5zb-xch-7kf</td>\n",
       "      <td>NaN</td>\n",
       "      <td>America's Branded Beef</td>\n",
       "      <td>2330 W Mission Ln Ste 3</td>\n",
       "      <td>Phoenix</td>\n",
       "      <td>AZ</td>\n",
       "      <td>85021</td>\n",
       "      <td>NaN</td>\n",
       "      <td>NaN</td>\n",
       "      <td>2021-05-01T00:00:00-07:00</td>\n",
       "      <td>...</td>\n",
       "      <td>{\"040136124002\":4,\"040130820081\":4}</td>\n",
       "      <td>{\"US\":20}</td>\n",
       "      <td>13885.0</td>\n",
       "      <td>30.0</td>\n",
       "      <td>{\"&lt;5\":4,\"5-10\":11,\"11-20\":2,\"21-60\":6,\"61-120\"...</td>\n",
       "      <td>{\"QuikTrip\":11,\"ARCO\":11,\"Savers Thrift Stores...</td>\n",
       "      <td>{\"QuikTrip\":28,\"Shell Oil\":28,\"Walmart\":24,\"Mc...</td>\n",
       "      <td>[1,1,1,1,1,2,3,5,14,15,9,8,8,10,8,7,7,2,4,5,7,...</td>\n",
       "      <td>{\"Monday\":13,\"Tuesday\":4,\"Wednesday\":3,\"Thursd...</td>\n",
       "      <td>{\"android\":12,\"ios\":12}</td>\n",
       "    </tr>\n",
       "    <tr>\n",
       "      <th>2</th>\n",
       "      <td>225-222@629-3fx-7h5</td>\n",
       "      <td>NaN</td>\n",
       "      <td>Fedora Optical</td>\n",
       "      <td>236 N Main St</td>\n",
       "      <td>Manchester</td>\n",
       "      <td>CT</td>\n",
       "      <td>6042</td>\n",
       "      <td>NaN</td>\n",
       "      <td>NaN</td>\n",
       "      <td>2021-05-01T00:00:00-04:00</td>\n",
       "      <td>...</td>\n",
       "      <td>{\"090035141021\":8,\"090035144001\":5,\"0900351420...</td>\n",
       "      <td>{\"US\":97}</td>\n",
       "      <td>6374.0</td>\n",
       "      <td>33.0</td>\n",
       "      <td>{\"&lt;5\":7,\"5-10\":59,\"11-20\":20,\"21-60\":64,\"61-12...</td>\n",
       "      <td>{\"Dunkin'\":7,\"Cumberland Farms\":5,\"Mobil\":4,\"C...</td>\n",
       "      <td>{\"CVS\":47,\"Dunkin'\":47,\"Walmart\":46,\"McDonald'...</td>\n",
       "      <td>[1,1,1,1,1,3,11,52,75,73,71,69,70,59,63,68,61,...</td>\n",
       "      <td>{\"Monday\":32,\"Tuesday\":34,\"Wednesday\":35,\"Thur...</td>\n",
       "      <td>{\"android\":57,\"ios\":45}</td>\n",
       "    </tr>\n",
       "    <tr>\n",
       "      <th>3</th>\n",
       "      <td>zzy-222@8sr-8kj-x5z</td>\n",
       "      <td>NaN</td>\n",
       "      <td>Boys &amp; Girls Clubs of America</td>\n",
       "      <td>4500 Santa Maria</td>\n",
       "      <td>Laredo</td>\n",
       "      <td>TX</td>\n",
       "      <td>78041</td>\n",
       "      <td>SG_BRAND_f30b03559d204ae5fa8ea7c6d0f38fb6</td>\n",
       "      <td>Boys &amp; Girls Clubs of America</td>\n",
       "      <td>2021-05-01T00:00:00-05:00</td>\n",
       "      <td>...</td>\n",
       "      <td>{\"484790017112\":7,\"484790017202\":4,\"4847900171...</td>\n",
       "      <td>{\"US\":27}</td>\n",
       "      <td>5444.0</td>\n",
       "      <td>13.0</td>\n",
       "      <td>{\"&lt;5\":9,\"5-10\":23,\"11-20\":14,\"21-60\":21,\"61-12...</td>\n",
       "      <td>{\"Church's Chicken\":10,\"Sam's Club Fuel Center...</td>\n",
       "      <td>{\"H-E-B\":66,\"McDonald's\":66,\"Valero Energy\":55...</td>\n",
       "      <td>[0,0,0,0,0,0,1,2,7,8,16,12,11,7,15,12,6,2,3,3,...</td>\n",
       "      <td>{\"Monday\":14,\"Tuesday\":14,\"Wednesday\":9,\"Thurs...</td>\n",
       "      <td>{\"android\":5,\"ios\":24}</td>\n",
       "    </tr>\n",
       "    <tr>\n",
       "      <th>4</th>\n",
       "      <td>22d-222@62j-ss8-3qz</td>\n",
       "      <td>NaN</td>\n",
       "      <td>Tapiz</td>\n",
       "      <td>231 Forest St</td>\n",
       "      <td>Wellesley</td>\n",
       "      <td>MA</td>\n",
       "      <td>2481</td>\n",
       "      <td>NaN</td>\n",
       "      <td>NaN</td>\n",
       "      <td>2021-05-01T00:00:00-04:00</td>\n",
       "      <td>...</td>\n",
       "      <td>{\"250214042012\":4}</td>\n",
       "      <td>{\"US\":9}</td>\n",
       "      <td>4787.0</td>\n",
       "      <td>14.0</td>\n",
       "      <td>{\"&lt;5\":0,\"5-10\":4,\"11-20\":1,\"21-60\":0,\"61-120\":...</td>\n",
       "      <td>{\"sweetgreen\":13,\"CrossFit\":13,\"Dick's Sportin...</td>\n",
       "      <td>{\"CVS\":75,\"Target\":63,\"Roche Brothers Supermar...</td>\n",
       "      <td>[0,0,0,0,0,0,0,0,0,1,2,2,1,1,2,1,4,3,2,0,0,0,0,0]</td>\n",
       "      <td>{\"Monday\":2,\"Tuesday\":0,\"Wednesday\":1,\"Thursda...</td>\n",
       "      <td>{\"android\":4,\"ios\":4}</td>\n",
       "    </tr>\n",
       "  </tbody>\n",
       "</table>\n",
       "<p>5 rows × 27 columns</p>\n",
       "</div>"
      ],
      "text/plain": [
       "              placekey parent_placekey                  location_name  \\\n",
       "0  zzz-222@63f-w7s-rrk             NaN             Vrfa Land Donation   \n",
       "1  zzw-223@5zb-xch-7kf             NaN         America's Branded Beef   \n",
       "2  225-222@629-3fx-7h5             NaN                 Fedora Optical   \n",
       "3  zzy-222@8sr-8kj-x5z             NaN  Boys & Girls Clubs of America   \n",
       "4  22d-222@62j-ss8-3qz             NaN                          Tapiz   \n",
       "\n",
       "            street_address        city region  postal_code  \\\n",
       "0       Vrfa Land Donation       Salem     VA        24153   \n",
       "1  2330 W Mission Ln Ste 3     Phoenix     AZ        85021   \n",
       "2            236 N Main St  Manchester     CT         6042   \n",
       "3         4500 Santa Maria      Laredo     TX        78041   \n",
       "4            231 Forest St   Wellesley     MA         2481   \n",
       "\n",
       "                         safegraph_brand_ids                         brands  \\\n",
       "0                                        NaN                            NaN   \n",
       "1                                        NaN                            NaN   \n",
       "2                                        NaN                            NaN   \n",
       "3  SG_BRAND_f30b03559d204ae5fa8ea7c6d0f38fb6  Boys & Girls Clubs of America   \n",
       "4                                        NaN                            NaN   \n",
       "\n",
       "            date_range_start  ...  \\\n",
       "0  2021-05-01T00:00:00-04:00  ...   \n",
       "1  2021-05-01T00:00:00-07:00  ...   \n",
       "2  2021-05-01T00:00:00-04:00  ...   \n",
       "3  2021-05-01T00:00:00-05:00  ...   \n",
       "4  2021-05-01T00:00:00-04:00  ...   \n",
       "\n",
       "                                visitor_daytime_cbgs  \\\n",
       "0  {\"511610302042\":7,\"511610310002\":4,\"5116103070...   \n",
       "1                {\"040136124002\":4,\"040130820081\":4}   \n",
       "2  {\"090035141021\":8,\"090035144001\":5,\"0900351420...   \n",
       "3  {\"484790017112\":7,\"484790017202\":4,\"4847900171...   \n",
       "4                                 {\"250214042012\":4}   \n",
       "\n",
       "   visitor_country_of_origin  distance_from_home median_dwell  \\\n",
       "0                  {\"US\":22}             15074.0         46.0   \n",
       "1                  {\"US\":20}             13885.0         30.0   \n",
       "2                  {\"US\":97}              6374.0         33.0   \n",
       "3                  {\"US\":27}              5444.0         13.0   \n",
       "4                   {\"US\":9}              4787.0         14.0   \n",
       "\n",
       "                                bucketed_dwell_times  \\\n",
       "0  {\"<5\":0,\"5-10\":6,\"11-20\":3,\"21-60\":8,\"61-120\":...   \n",
       "1  {\"<5\":4,\"5-10\":11,\"11-20\":2,\"21-60\":6,\"61-120\"...   \n",
       "2  {\"<5\":7,\"5-10\":59,\"11-20\":20,\"21-60\":64,\"61-12...   \n",
       "3  {\"<5\":9,\"5-10\":23,\"11-20\":14,\"21-60\":21,\"61-12...   \n",
       "4  {\"<5\":0,\"5-10\":4,\"11-20\":1,\"21-60\":0,\"61-120\":...   \n",
       "\n",
       "                              related_same_day_brand  \\\n",
       "0  {\"Sheetz\":13,\"McDonald's\":10,\"Chick-fil-A\":7,\"...   \n",
       "1  {\"QuikTrip\":11,\"ARCO\":11,\"Savers Thrift Stores...   \n",
       "2  {\"Dunkin'\":7,\"Cumberland Farms\":5,\"Mobil\":4,\"C...   \n",
       "3  {\"Church's Chicken\":10,\"Sam's Club Fuel Center...   \n",
       "4  {\"sweetgreen\":13,\"CrossFit\":13,\"Dick's Sportin...   \n",
       "\n",
       "                            related_same_month_brand  \\\n",
       "0  {\"Walmart\":73,\"Sheetz\":73,\"McDonald's\":55,\"Chi...   \n",
       "1  {\"QuikTrip\":28,\"Shell Oil\":28,\"Walmart\":24,\"Mc...   \n",
       "2  {\"CVS\":47,\"Dunkin'\":47,\"Walmart\":46,\"McDonald'...   \n",
       "3  {\"H-E-B\":66,\"McDonald's\":66,\"Valero Energy\":55...   \n",
       "4  {\"CVS\":75,\"Target\":63,\"Roche Brothers Supermar...   \n",
       "\n",
       "                                  popularity_by_hour  \\\n",
       "0  [0,0,0,0,0,0,0,0,1,1,1,1,6,10,10,9,8,6,6,4,0,0...   \n",
       "1  [1,1,1,1,1,2,3,5,14,15,9,8,8,10,8,7,7,2,4,5,7,...   \n",
       "2  [1,1,1,1,1,3,11,52,75,73,71,69,70,59,63,68,61,...   \n",
       "3  [0,0,0,0,0,0,1,2,7,8,16,12,11,7,15,12,6,2,3,3,...   \n",
       "4  [0,0,0,0,0,0,0,0,0,1,2,2,1,1,2,1,4,3,2,0,0,0,0,0]   \n",
       "\n",
       "                                   popularity_by_day              device_type  \n",
       "0  {\"Monday\":7,\"Tuesday\":4,\"Wednesday\":3,\"Thursda...   {\"android\":4,\"ios\":16}  \n",
       "1  {\"Monday\":13,\"Tuesday\":4,\"Wednesday\":3,\"Thursd...  {\"android\":12,\"ios\":12}  \n",
       "2  {\"Monday\":32,\"Tuesday\":34,\"Wednesday\":35,\"Thur...  {\"android\":57,\"ios\":45}  \n",
       "3  {\"Monday\":14,\"Tuesday\":14,\"Wednesday\":9,\"Thurs...   {\"android\":5,\"ios\":24}  \n",
       "4  {\"Monday\":2,\"Tuesday\":0,\"Wednesday\":1,\"Thursda...    {\"android\":4,\"ios\":4}  \n",
       "\n",
       "[5 rows x 27 columns]"
      ]
     },
     "execution_count": 306,
     "metadata": {},
     "output_type": "execute_result"
    }
   ],
   "source": [
    "data_202105_p2.head()"
   ]
  },
  {
   "cell_type": "code",
   "execution_count": 307,
   "id": "f2eaa98a",
   "metadata": {},
   "outputs": [
    {
     "data": {
      "text/plain": [
       "2021-05-01T00:00:00-04:00    553362\n",
       "2021-05-01T00:00:00-05:00    364973\n",
       "2021-05-01T00:00:00-07:00    216730\n",
       "2021-05-01T00:00:00-06:00     59319\n",
       "2021-05-01T00:00:00-10:00      5115\n",
       "2021-05-01T00:00:00-08:00      2822\n",
       "2021-05-01T00:00:00-03:00        43\n",
       "2021-05-01T00:00:00+10:00        14\n",
       "2021-05-01T00:00:00-11:00         2\n",
       "Name: date_range_start, dtype: int64"
      ]
     },
     "execution_count": 307,
     "metadata": {},
     "output_type": "execute_result"
    }
   ],
   "source": [
    "data_202105_p2.date_range_start.value_counts()"
   ]
  },
  {
   "cell_type": "code",
   "execution_count": 308,
   "id": "0d0224b0",
   "metadata": {},
   "outputs": [
    {
     "data": {
      "text/plain": [
       "2021-06-01T00:00:00-04:00    553362\n",
       "2021-06-01T00:00:00-05:00    364973\n",
       "2021-06-01T00:00:00-07:00    216730\n",
       "2021-06-01T00:00:00-06:00     59319\n",
       "2021-06-01T00:00:00-10:00      5115\n",
       "2021-06-01T00:00:00-08:00      2822\n",
       "2021-06-01T00:00:00-03:00        43\n",
       "2021-06-01T00:00:00+10:00        14\n",
       "2021-06-01T00:00:00-11:00         2\n",
       "Name: date_range_end, dtype: int64"
      ]
     },
     "execution_count": 308,
     "metadata": {},
     "output_type": "execute_result"
    }
   ],
   "source": [
    "data_202105_p2.date_range_end.value_counts()"
   ]
  },
  {
   "cell_type": "code",
   "execution_count": 309,
   "id": "0a06c179-6387-4f44-8a96-57b1038870e6",
   "metadata": {},
   "outputs": [],
   "source": [
    "brand_ids_list = data_202105_p2.safegraph_brand_ids.str.split(',')\n",
    "data_202105_p2['brand_ids_len'] = brand_ids_list.apply(lambda b: b if type(b) == float else len(b))\n",
    "data_202105_p2['brands_len'] = data_202105_p2.brands.str.split(',').apply(lambda b: b if type(b) == float else len(b))\n",
    "data_202105_p2['safegraph_brand_id'] = brand_ids_list.apply(lambda li: li if type(li) == float else li[0])"
   ]
  },
  {
   "cell_type": "code",
   "execution_count": 310,
   "id": "7a30e7a6-8889-4168-ade6-88a89a265f73",
   "metadata": {},
   "outputs": [],
   "source": [
    "data_202105_p2 = data_202105_p2.merge(brands[['safegraph_brand_id', 'top_category', 'sub_category']], on='safegraph_brand_id')"
   ]
  },
  {
   "cell_type": "code",
   "execution_count": 311,
   "id": "0d024d24-650b-4cdf-bce1-663091ba5a76",
   "metadata": {},
   "outputs": [],
   "source": [
    "dt_split = data_202105_p2.date_range_start.str.split('-')\n",
    "data_202105_p2 = data_202105_p2[keep_cols]\n",
    "data_202105_p2['year'] = dt_split.apply(lambda d: int(d[0]))\n",
    "data_202105_p2['month'] = dt_split.apply(lambda d: int(d[1]))"
   ]
  },
  {
   "cell_type": "code",
   "execution_count": 312,
   "id": "fd81f02c-bee2-49e2-9ad8-a8f269827e62",
   "metadata": {},
   "outputs": [
    {
     "data": {
      "text/plain": [
       "(254095, 16)"
      ]
     },
     "execution_count": 312,
     "metadata": {},
     "output_type": "execute_result"
    }
   ],
   "source": [
    "data_202105_p2.shape"
   ]
  },
  {
   "cell_type": "code",
   "execution_count": 313,
   "id": "898bfca6-62a8-4742-ad14-5e55fbe7954b",
   "metadata": {},
   "outputs": [],
   "source": [
    "data_202105_p2.to_csv(tmp_outfile, index=False, mode='a', header=False)"
   ]
  },
  {
   "cell_type": "code",
   "execution_count": 314,
   "id": "b0661eac-5416-4dc0-ba0f-328d1edda416",
   "metadata": {},
   "outputs": [
    {
     "name": "stdout",
     "output_type": "stream",
     "text": [
      "530358 ../../data/cleaned_202105.csv\n"
     ]
    }
   ],
   "source": [
    "!wc -l $tmp_outfile"
   ]
  },
  {
   "cell_type": "markdown",
   "id": "9692474d-1b77-4bd1-bb20-5ddd4deefb82",
   "metadata": {},
   "source": [
    "##### Part 3"
   ]
  },
  {
   "cell_type": "code",
   "execution_count": 315,
   "id": "980f095c",
   "metadata": {},
   "outputs": [
    {
     "name": "stderr",
     "output_type": "stream",
     "text": [
      "/home/yffl/.local/lib/python3.8/site-packages/IPython/core/interactiveshell.py:3441: DtypeWarning: Columns (14) have mixed types.Specify dtype option on import or set low_memory=False.\n",
      "  exec(code_obj, self.user_global_ns, self.user_ns)\n"
     ]
    }
   ],
   "source": [
    "data_202105 = pd.read_csv(f'{DATA_DIR}/202105/patterns-part3.csv')"
   ]
  },
  {
   "cell_type": "markdown",
   "id": "af499e3f",
   "metadata": {},
   "source": [
    "Minimal date range sanity check"
   ]
  },
  {
   "cell_type": "code",
   "execution_count": 316,
   "id": "251521f3",
   "metadata": {},
   "outputs": [
    {
     "data": {
      "text/plain": [
       "2021-06-01T00:00:00-04:00    468477\n",
       "2021-06-01T00:00:00-05:00    307394\n",
       "2021-06-01T00:00:00-07:00    182916\n",
       "2021-06-01T00:00:00-06:00     49800\n",
       "2021-06-01T00:00:00-10:00      4419\n",
       "2021-06-01T00:00:00-08:00      2317\n",
       "2021-06-01T00:00:00-03:00        19\n",
       "2021-06-01T00:00:00+10:00        14\n",
       "2021-06-01T00:00:00-11:00         1\n",
       "Name: date_range_end, dtype: int64"
      ]
     },
     "execution_count": 316,
     "metadata": {},
     "output_type": "execute_result"
    }
   ],
   "source": [
    "data_202105.date_range_end.value_counts()"
   ]
  },
  {
   "cell_type": "code",
   "execution_count": 317,
   "id": "6298593d-1e93-4e3a-b8f5-fedd0aefae2f",
   "metadata": {},
   "outputs": [],
   "source": [
    "brand_ids_list = data_202105.safegraph_brand_ids.str.split(',')\n",
    "data_202105['brand_ids_len'] = brand_ids_list.apply(lambda b: b if type(b) == float else len(b))\n",
    "data_202105['brands_len'] = data_202105.brands.str.split(',').apply(lambda b: b if type(b) == float else len(b))\n",
    "data_202105['safegraph_brand_id'] = brand_ids_list.apply(lambda li: li if type(li) == float else li[0])"
   ]
  },
  {
   "cell_type": "code",
   "execution_count": 318,
   "id": "f57c9833-f598-462e-b0ea-d21aa5b2c591",
   "metadata": {},
   "outputs": [],
   "source": [
    "data_202105 = data_202105.merge(brands[['safegraph_brand_id', 'top_category', 'sub_category']], on='safegraph_brand_id')"
   ]
  },
  {
   "cell_type": "code",
   "execution_count": 319,
   "id": "8e0acad6-e5e0-41b7-909d-834b209b41cc",
   "metadata": {},
   "outputs": [],
   "source": [
    "dt_split = data_202105.date_range_start.str.split('-')\n",
    "data_202105 = data_202105[keep_cols]\n",
    "data_202105['year'] = dt_split.apply(lambda d: int(d[0]))\n",
    "data_202105['month'] = dt_split.apply(lambda d: int(d[1]))"
   ]
  },
  {
   "cell_type": "code",
   "execution_count": 320,
   "id": "afbefcac-b501-422e-b8bb-9d640748bd7e",
   "metadata": {},
   "outputs": [
    {
     "data": {
      "text/plain": [
       "(214096, 16)"
      ]
     },
     "execution_count": 320,
     "metadata": {},
     "output_type": "execute_result"
    }
   ],
   "source": [
    "data_202105.shape"
   ]
  },
  {
   "cell_type": "code",
   "execution_count": 321,
   "id": "6dfca318-0ea2-4bc7-9ed5-e332cce00046",
   "metadata": {},
   "outputs": [],
   "source": [
    "data_202105.to_csv(tmp_outfile, index=False, mode='a', header=False)"
   ]
  },
  {
   "cell_type": "code",
   "execution_count": 324,
   "id": "0207354d-27b4-46b7-9659-88966147e4ab",
   "metadata": {},
   "outputs": [
    {
     "name": "stdout",
     "output_type": "stream",
     "text": [
      "744454 ../../data/cleaned_202105.csv\n"
     ]
    }
   ],
   "source": [
    "!wc -l $tmp_outfile"
   ]
  },
  {
   "cell_type": "markdown",
   "id": "8f17b490-8385-4bde-b68b-4d9725a7925a",
   "metadata": {},
   "source": [
    "##### Part 4"
   ]
  },
  {
   "cell_type": "code",
   "execution_count": 326,
   "id": "e88eae35-853b-460e-897d-1fdb9c3092fa",
   "metadata": {},
   "outputs": [],
   "source": [
    "data_202105 = pd.read_csv(f'{DATA_DIR}/202105/patterns-part4.csv')"
   ]
  },
  {
   "cell_type": "markdown",
   "id": "c128b361",
   "metadata": {},
   "source": [
    "Minimal date range sanity check"
   ]
  },
  {
   "cell_type": "code",
   "execution_count": 327,
   "id": "a668e613",
   "metadata": {},
   "outputs": [
    {
     "data": {
      "text/plain": [
       "2021-06-01T00:00:00-04:00    466668\n",
       "2021-06-01T00:00:00-05:00    306426\n",
       "2021-06-01T00:00:00-07:00    182518\n",
       "2021-06-01T00:00:00-06:00     49734\n",
       "2021-06-01T00:00:00-10:00      4325\n",
       "2021-06-01T00:00:00-08:00      2427\n",
       "2021-06-01T00:00:00-03:00        19\n",
       "2021-06-01T00:00:00+10:00        16\n",
       "2021-06-01T00:00:00-11:00         2\n",
       "Name: date_range_end, dtype: int64"
      ]
     },
     "execution_count": 327,
     "metadata": {},
     "output_type": "execute_result"
    }
   ],
   "source": [
    "data_202105.date_range_end.value_counts()"
   ]
  },
  {
   "cell_type": "code",
   "execution_count": 328,
   "id": "83b1c3fe-5c9d-4348-81f2-10bd6fcbfd5d",
   "metadata": {},
   "outputs": [],
   "source": [
    "brand_ids_list = data_202105.safegraph_brand_ids.str.split(',')\n",
    "data_202105['brand_ids_len'] = brand_ids_list.apply(lambda b: b if type(b) == float else len(b))\n",
    "data_202105['brands_len'] = data_202105.brands.str.split(',').apply(lambda b: b if type(b) == float else len(b))\n",
    "data_202105['safegraph_brand_id'] = brand_ids_list.apply(lambda li: li if type(li) == float else li[0])"
   ]
  },
  {
   "cell_type": "code",
   "execution_count": 329,
   "id": "f9c837de-5803-440d-9fe8-c47926fe712c",
   "metadata": {},
   "outputs": [],
   "source": [
    "data_202105 = data_202105.merge(brands[['safegraph_brand_id', 'top_category', 'sub_category']], on='safegraph_brand_id')"
   ]
  },
  {
   "cell_type": "code",
   "execution_count": 330,
   "id": "476f628b-ce72-42fa-a025-750602cc140d",
   "metadata": {},
   "outputs": [],
   "source": [
    "dt_split = data_202105.date_range_start.str.split('-')\n",
    "data_202105 = data_202105[keep_cols]\n",
    "data_202105['year'] = dt_split.apply(lambda d: int(d[0]))\n",
    "data_202105['month'] = dt_split.apply(lambda d: int(d[1]))"
   ]
  },
  {
   "cell_type": "code",
   "execution_count": 331,
   "id": "f45c098c-84d0-414b-971b-f78f5efc7764",
   "metadata": {},
   "outputs": [
    {
     "data": {
      "text/plain": [
       "(213704, 16)"
      ]
     },
     "execution_count": 331,
     "metadata": {},
     "output_type": "execute_result"
    }
   ],
   "source": [
    "data_202105.shape"
   ]
  },
  {
   "cell_type": "code",
   "execution_count": 332,
   "id": "3f66e7f6-eae6-4201-af1d-95e174e751ab",
   "metadata": {},
   "outputs": [],
   "source": [
    "data_202105.to_csv(tmp_outfile, index=False, mode='a', header=False)"
   ]
  },
  {
   "cell_type": "code",
   "execution_count": 333,
   "id": "aaee5805-6784-45b9-b0b9-4a8c73dbd1c5",
   "metadata": {},
   "outputs": [],
   "source": [
    "!sudo mv $tmp_outfile $DATA_DIR"
   ]
  },
  {
   "cell_type": "code",
   "execution_count": 335,
   "id": "42035c95",
   "metadata": {},
   "outputs": [],
   "source": [
    "del data_202105, data_202105_p2"
   ]
  },
  {
   "cell_type": "markdown",
   "id": "ad1bc4b4",
   "metadata": {},
   "source": [
    "### Define function based on above and apply to other months"
   ]
  },
  {
   "cell_type": "code",
   "execution_count": 6,
   "id": "f62e4abb-e00e-461f-914d-9567b5d6edaa",
   "metadata": {},
   "outputs": [],
   "source": [
    "def monthly_data_edit_write(infile, brands, outfile, header=False):\n",
    "    data = pd.read_csv(infile)\n",
    "    brand_ids_list = data.safegraph_brand_ids.str.split(',')\n",
    "    data['brand_ids_len'] = brand_ids_list.apply(lambda b: b if type(b) == float else len(b))\n",
    "    data['brands_len'] = data.brands.str.split(',').apply(lambda b: b if type(b) == float else len(b))\n",
    "    data['safegraph_brand_id'] = brand_ids_list.apply(lambda li: li if type(li) == float else li[0])\n",
    "    data = data.merge(brands[['safegraph_brand_id', 'top_category', 'sub_category']], on='safegraph_brand_id')\n",
    "    dt_split = data.date_range_start.str.split('-')\n",
    "    keep_cols = ['city', 'region', 'safegraph_brand_id', 'top_category', 'sub_category', 'safegraph_brand_ids', 'brands',\n",
    "             'brand_ids_len', 'brands_len', 'raw_visit_counts', 'raw_visitor_counts', 'visits_by_day', 'poi_cbg', 'median_dwell']\n",
    "    data = data[keep_cols]\n",
    "    data['year'] = dt_split.apply(lambda d: int(d[0]))\n",
    "    data['month'] = dt_split.apply(lambda d: int(d[1]))\n",
    "    data.to_csv(outfile, index=False, mode='a', header=header)\n",
    "    return data # for ease of sanity checking"
   ]
  },
  {
   "cell_type": "markdown",
   "id": "aa5e2564",
   "metadata": {},
   "source": [
    "### April 2021"
   ]
  },
  {
   "cell_type": "code",
   "execution_count": 7,
   "id": "4da60136-b269-4066-a042-149541a4b3de",
   "metadata": {},
   "outputs": [],
   "source": [
    "tmp_outfile = f'{TMP_DATA_DIR}/cleaned_202104.csv'"
   ]
  },
  {
   "cell_type": "code",
   "execution_count": 8,
   "id": "6175d870",
   "metadata": {},
   "outputs": [
    {
     "name": "stderr",
     "output_type": "stream",
     "text": [
      "/tmp/ipykernel_81996/1879040235.py:1: DtypeWarning: Columns (14) have mixed types.Specify dtype option on import or set low_memory=False.\n",
      "  data_202104 = monthly_data_edit_write(f'{DATA_DIR}/202104/patterns-part1.csv', brands, tmp_outfile, True)\n"
     ]
    }
   ],
   "source": [
    "data_202104 = monthly_data_edit_write(f'{DATA_DIR}/202104/patterns-part1.csv', brands, tmp_outfile, True)"
   ]
  },
  {
   "cell_type": "code",
   "execution_count": 9,
   "id": "804a2146-c72a-464d-9284-9337c766a73e",
   "metadata": {},
   "outputs": [
    {
     "name": "stderr",
     "output_type": "stream",
     "text": [
      "/tmp/ipykernel_81996/1717364393.py:1: DtypeWarning: Columns (14) have mixed types.Specify dtype option on import or set low_memory=False.\n",
      "  data_202104 = monthly_data_edit_write(f'{DATA_DIR}/202104/patterns-part2.csv', brands, tmp_outfile)\n"
     ]
    }
   ],
   "source": [
    "data_202104 = monthly_data_edit_write(f'{DATA_DIR}/202104/patterns-part2.csv', brands, tmp_outfile)"
   ]
  },
  {
   "cell_type": "code",
   "execution_count": 13,
   "id": "31efc993-1097-4fe5-a403-9af8402cd28d",
   "metadata": {},
   "outputs": [
    {
     "name": "stderr",
     "output_type": "stream",
     "text": [
      "/tmp/ipykernel_81996/2557293945.py:1: DtypeWarning: Columns (14) have mixed types.Specify dtype option on import or set low_memory=False.\n",
      "  data_202104 = monthly_data_edit_write(f'{DATA_DIR}/202104/patterns-part3.csv', brands, tmp_outfile)\n"
     ]
    }
   ],
   "source": [
    "data_202104 = monthly_data_edit_write(f'{DATA_DIR}/202104/patterns-part3.csv', brands, tmp_outfile)"
   ]
  },
  {
   "cell_type": "code",
   "execution_count": 16,
   "id": "25f02c22-6e37-480b-8cdf-e1295de9ed89",
   "metadata": {},
   "outputs": [
    {
     "name": "stderr",
     "output_type": "stream",
     "text": [
      "/tmp/ipykernel_81996/4142921592.py:1: DtypeWarning: Columns (14) have mixed types.Specify dtype option on import or set low_memory=False.\n",
      "  data_202104 = monthly_data_edit_write(f'{DATA_DIR}/202104/patterns-part4.csv', brands, tmp_outfile)\n"
     ]
    }
   ],
   "source": [
    "data_202104 = monthly_data_edit_write(f'{DATA_DIR}/202104/patterns-part4.csv', brands, tmp_outfile)"
   ]
  },
  {
   "cell_type": "code",
   "execution_count": 23,
   "id": "fa71cf57-a4dd-481f-a0ee-0e0d187757ab",
   "metadata": {},
   "outputs": [],
   "source": [
    "!sudo mv $tmp_outfile $DATA_DIR"
   ]
  },
  {
   "cell_type": "markdown",
   "id": "5a73ffe7-eb4e-4b91-9591-ab9e93432015",
   "metadata": {},
   "source": [
    "#### Snippet for transforming visits_by_day into arrays"
   ]
  },
  {
   "cell_type": "code",
   "execution_count": null,
   "id": "29a9dc73-9ec7-4521-8339-8a9298ca108c",
   "metadata": {},
   "outputs": [],
   "source": [
    "data_202105['visits_by_day'] = data_202105.visits_by_day.str.strip('[]').str.split(',')\n",
    "data_202105['visits_by_day'] = data_202105.visits_by_day.apply(lambda li: np.array(li).astype(int))"
   ]
  }
 ],
 "metadata": {
  "kernelspec": {
   "display_name": "Python 3 (ipykernel)",
   "language": "python",
   "name": "python3"
  },
  "language_info": {
   "codemirror_mode": {
    "name": "ipython",
    "version": 3
   },
   "file_extension": ".py",
   "mimetype": "text/x-python",
   "name": "python",
   "nbconvert_exporter": "python",
   "pygments_lexer": "ipython3",
   "version": "3.8.10"
  }
 },
 "nbformat": 4,
 "nbformat_minor": 5
}
