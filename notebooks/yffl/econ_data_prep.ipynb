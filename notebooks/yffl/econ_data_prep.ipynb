{
 "cells": [
  {
   "cell_type": "code",
   "execution_count": 1,
   "id": "abc24160",
   "metadata": {},
   "outputs": [],
   "source": [
    "import pandas as pd"
   ]
  },
  {
   "cell_type": "markdown",
   "id": "b4573cf1",
   "metadata": {},
   "source": [
    "### May 2021 data for trial workflow"
   ]
  },
  {
   "cell_type": "code",
   "execution_count": 3,
   "id": "37b940f0",
   "metadata": {},
   "outputs": [
    {
     "name": "stderr",
     "output_type": "stream",
     "text": [
      "/Users/yiffle/.virtualenvs/datajam-BszZ0aVF/lib/python3.8/site-packages/IPython/core/interactiveshell.py:3441: DtypeWarning: Columns (14) have mixed types.Specify dtype option on import or set low_memory=False.\n",
      "  exec(code_obj, self.user_global_ns, self.user_ns)\n"
     ]
    }
   ],
   "source": [
    "econ_data_202105 = pd.read_csv('data/patterns-part1.csv')"
   ]
  },
  {
   "cell_type": "code",
   "execution_count": 4,
   "id": "ac271fba",
   "metadata": {},
   "outputs": [
    {
     "data": {
      "text/html": [
       "<div>\n",
       "<style scoped>\n",
       "    .dataframe tbody tr th:only-of-type {\n",
       "        vertical-align: middle;\n",
       "    }\n",
       "\n",
       "    .dataframe tbody tr th {\n",
       "        vertical-align: top;\n",
       "    }\n",
       "\n",
       "    .dataframe thead th {\n",
       "        text-align: right;\n",
       "    }\n",
       "</style>\n",
       "<table border=\"1\" class=\"dataframe\">\n",
       "  <thead>\n",
       "    <tr style=\"text-align: right;\">\n",
       "      <th></th>\n",
       "      <th>placekey</th>\n",
       "      <th>parent_placekey</th>\n",
       "      <th>location_name</th>\n",
       "      <th>street_address</th>\n",
       "      <th>city</th>\n",
       "      <th>region</th>\n",
       "      <th>postal_code</th>\n",
       "      <th>safegraph_brand_ids</th>\n",
       "      <th>brands</th>\n",
       "      <th>date_range_start</th>\n",
       "      <th>...</th>\n",
       "      <th>visitor_daytime_cbgs</th>\n",
       "      <th>visitor_country_of_origin</th>\n",
       "      <th>distance_from_home</th>\n",
       "      <th>median_dwell</th>\n",
       "      <th>bucketed_dwell_times</th>\n",
       "      <th>related_same_day_brand</th>\n",
       "      <th>related_same_month_brand</th>\n",
       "      <th>popularity_by_hour</th>\n",
       "      <th>popularity_by_day</th>\n",
       "      <th>device_type</th>\n",
       "    </tr>\n",
       "  </thead>\n",
       "  <tbody>\n",
       "    <tr>\n",
       "      <th>0</th>\n",
       "      <td>222-222@3x5-4sw-d35</td>\n",
       "      <td>222-223@3x5-4sw-d35</td>\n",
       "      <td>Divine's Convenience &amp; Auto Repair Shops</td>\n",
       "      <td>1520 N Pines Rd</td>\n",
       "      <td>Spokane Valley</td>\n",
       "      <td>WA</td>\n",
       "      <td>99206</td>\n",
       "      <td>SG_BRAND_69d4a2b66d1aea33</td>\n",
       "      <td>Divine's Convenience &amp; Auto Repair Shops</td>\n",
       "      <td>2021-05-01T00:00:00-07:00</td>\n",
       "      <td>...</td>\n",
       "      <td>{\"530610519281\":6,\"530630103011\":4,\"5306301320...</td>\n",
       "      <td>{\"US\":29}</td>\n",
       "      <td>12123.0</td>\n",
       "      <td>8.0</td>\n",
       "      <td>{\"&lt;5\":0,\"5-10\":35,\"11-20\":5,\"21-60\":0,\"61-120\"...</td>\n",
       "      <td>{\"76\":100,\"Starbucks\":8,\"Target\":5,\"Greyhound\"...</td>\n",
       "      <td>{\"76\":100,\"ConocoPhillips\":48,\"Walmart\":45,\"Ta...</td>\n",
       "      <td>[0,0,0,0,0,0,0,2,0,1,1,3,4,2,6,11,3,1,4,2,1,1,...</td>\n",
       "      <td>{\"Monday\":10,\"Tuesday\":4,\"Wednesday\":8,\"Thursd...</td>\n",
       "      <td>{\"android\":18,\"ios\":12}</td>\n",
       "    </tr>\n",
       "    <tr>\n",
       "      <th>1</th>\n",
       "      <td>224-222@63r-6hr-5pv</td>\n",
       "      <td>NaN</td>\n",
       "      <td>Fallsgrove Center for Dentistry</td>\n",
       "      <td>14955 Shady Grove Rd Ste 200</td>\n",
       "      <td>Rockville</td>\n",
       "      <td>MD</td>\n",
       "      <td>20850</td>\n",
       "      <td>NaN</td>\n",
       "      <td>NaN</td>\n",
       "      <td>2021-05-01T00:00:00-04:00</td>\n",
       "      <td>...</td>\n",
       "      <td>{\"240317009021\":6,\"240317003121\":4,\"2403170060...</td>\n",
       "      <td>{\"US\":21}</td>\n",
       "      <td>10363.0</td>\n",
       "      <td>55.0</td>\n",
       "      <td>{\"&lt;5\":0,\"5-10\":5,\"11-20\":5,\"21-60\":7,\"61-120\":...</td>\n",
       "      <td>{\"Safeway Pharmacy\":10,\"Walmart\":3,\"Chevrolet\"...</td>\n",
       "      <td>{\"CVS\":55,\"Starbucks\":41,\"Costco\":41,\"Target\":...</td>\n",
       "      <td>[0,0,0,0,0,0,0,5,9,12,11,9,8,9,13,14,8,3,0,0,0...</td>\n",
       "      <td>{\"Monday\":5,\"Tuesday\":6,\"Wednesday\":4,\"Thursda...</td>\n",
       "      <td>{\"android\":13,\"ios\":8}</td>\n",
       "    </tr>\n",
       "    <tr>\n",
       "      <th>2</th>\n",
       "      <td>zzw-222@63r-6y3-45f</td>\n",
       "      <td>NaN</td>\n",
       "      <td>CubeSmart</td>\n",
       "      <td>44 Research Pl</td>\n",
       "      <td>Rockville</td>\n",
       "      <td>MD</td>\n",
       "      <td>20850</td>\n",
       "      <td>SG_BRAND_3609f80e8ab3db987d9be5010a726c20</td>\n",
       "      <td>CubeSmart</td>\n",
       "      <td>2021-05-01T00:00:00-04:00</td>\n",
       "      <td>...</td>\n",
       "      <td>{\"370250413032\":4,\"200910516003\":4,\"2403380390...</td>\n",
       "      <td>{\"US\":11}</td>\n",
       "      <td>56944.0</td>\n",
       "      <td>16.0</td>\n",
       "      <td>{\"&lt;5\":0,\"5-10\":5,\"11-20\":3,\"21-60\":5,\"61-120\":...</td>\n",
       "      <td>{\"Marriott Hotels\":31,\"Exxon Mobil\":23,\"Quizno...</td>\n",
       "      <td>{\"Shell Oil\":82,\"Exxon Mobil\":64,\"Target\":45,\"...</td>\n",
       "      <td>[0,0,0,0,0,0,0,0,1,0,1,3,4,7,3,1,2,2,0,0,0,0,0,0]</td>\n",
       "      <td>{\"Monday\":5,\"Tuesday\":0,\"Wednesday\":1,\"Thursda...</td>\n",
       "      <td>{\"android\":5,\"ios\":5}</td>\n",
       "    </tr>\n",
       "    <tr>\n",
       "      <th>3</th>\n",
       "      <td>227-222@629-fv8-xqz</td>\n",
       "      <td>NaN</td>\n",
       "      <td>United States Postal Service (USPS)</td>\n",
       "      <td>3619 Route 52</td>\n",
       "      <td>Walker Valley</td>\n",
       "      <td>NY</td>\n",
       "      <td>12588</td>\n",
       "      <td>SG_BRAND_27ee73cd1fb6f5e432852fea401eacce</td>\n",
       "      <td>United States Postal Service (USPS)</td>\n",
       "      <td>2021-05-01T00:00:00-04:00</td>\n",
       "      <td>...</td>\n",
       "      <td>{\"360710114001\":4}</td>\n",
       "      <td>{\"US\":6}</td>\n",
       "      <td>14501.0</td>\n",
       "      <td>15.0</td>\n",
       "      <td>{\"&lt;5\":1,\"5-10\":2,\"11-20\":3,\"21-60\":2,\"61-120\":...</td>\n",
       "      <td>{\"Mobil\":22,\"Hannaford Supermarkets\":11,\"Five ...</td>\n",
       "      <td>{\"Five Below\":63,\"Mobil\":63,\"McDonald's\":63,\"D...</td>\n",
       "      <td>[0,0,0,0,0,0,0,0,0,0,1,1,0,2,2,2,1,2,1,0,0,1,0,0]</td>\n",
       "      <td>{\"Monday\":2,\"Tuesday\":1,\"Wednesday\":2,\"Thursda...</td>\n",
       "      <td>{\"android\":0,\"ios\":6}</td>\n",
       "    </tr>\n",
       "    <tr>\n",
       "      <th>4</th>\n",
       "      <td>zzy-222@8gf-y8m-qcq</td>\n",
       "      <td>NaN</td>\n",
       "      <td>Tropical Smoothie Café</td>\n",
       "      <td>10725 Us 501</td>\n",
       "      <td>Southern Pines</td>\n",
       "      <td>NC</td>\n",
       "      <td>28387</td>\n",
       "      <td>SG_BRAND_321fb519b4bdd1052f599b2740228cc1</td>\n",
       "      <td>Tropical Smoothie Café</td>\n",
       "      <td>2021-05-01T00:00:00-04:00</td>\n",
       "      <td>...</td>\n",
       "      <td>{\"371259507021\":7,\"371259506022\":5,\"3712595080...</td>\n",
       "      <td>{\"US\":90}</td>\n",
       "      <td>13155.0</td>\n",
       "      <td>10.0</td>\n",
       "      <td>{\"&lt;5\":7,\"5-10\":48,\"11-20\":12,\"21-60\":15,\"61-12...</td>\n",
       "      <td>{\"Chick-fil-A\":14,\"Walmart\":9,\"Kohl's\":8,\"McDo...</td>\n",
       "      <td>{\"Walmart\":72,\"Chick-fil-A\":68,\"McDonald's\":61...</td>\n",
       "      <td>[0,0,0,0,0,0,2,2,6,12,11,11,17,18,13,10,13,21,...</td>\n",
       "      <td>{\"Monday\":18,\"Tuesday\":14,\"Wednesday\":13,\"Thur...</td>\n",
       "      <td>{\"android\":29,\"ios\":63}</td>\n",
       "    </tr>\n",
       "  </tbody>\n",
       "</table>\n",
       "<p>5 rows × 27 columns</p>\n",
       "</div>"
      ],
      "text/plain": [
       "              placekey      parent_placekey  \\\n",
       "0  222-222@3x5-4sw-d35  222-223@3x5-4sw-d35   \n",
       "1  224-222@63r-6hr-5pv                  NaN   \n",
       "2  zzw-222@63r-6y3-45f                  NaN   \n",
       "3  227-222@629-fv8-xqz                  NaN   \n",
       "4  zzy-222@8gf-y8m-qcq                  NaN   \n",
       "\n",
       "                              location_name                street_address  \\\n",
       "0  Divine's Convenience & Auto Repair Shops               1520 N Pines Rd   \n",
       "1           Fallsgrove Center for Dentistry  14955 Shady Grove Rd Ste 200   \n",
       "2                                 CubeSmart                44 Research Pl   \n",
       "3       United States Postal Service (USPS)                 3619 Route 52   \n",
       "4                    Tropical Smoothie Café                  10725 Us 501   \n",
       "\n",
       "             city region  postal_code  \\\n",
       "0  Spokane Valley     WA        99206   \n",
       "1       Rockville     MD        20850   \n",
       "2       Rockville     MD        20850   \n",
       "3   Walker Valley     NY        12588   \n",
       "4  Southern Pines     NC        28387   \n",
       "\n",
       "                         safegraph_brand_ids  \\\n",
       "0                  SG_BRAND_69d4a2b66d1aea33   \n",
       "1                                        NaN   \n",
       "2  SG_BRAND_3609f80e8ab3db987d9be5010a726c20   \n",
       "3  SG_BRAND_27ee73cd1fb6f5e432852fea401eacce   \n",
       "4  SG_BRAND_321fb519b4bdd1052f599b2740228cc1   \n",
       "\n",
       "                                     brands           date_range_start  ...  \\\n",
       "0  Divine's Convenience & Auto Repair Shops  2021-05-01T00:00:00-07:00  ...   \n",
       "1                                       NaN  2021-05-01T00:00:00-04:00  ...   \n",
       "2                                 CubeSmart  2021-05-01T00:00:00-04:00  ...   \n",
       "3       United States Postal Service (USPS)  2021-05-01T00:00:00-04:00  ...   \n",
       "4                    Tropical Smoothie Café  2021-05-01T00:00:00-04:00  ...   \n",
       "\n",
       "                                visitor_daytime_cbgs  \\\n",
       "0  {\"530610519281\":6,\"530630103011\":4,\"5306301320...   \n",
       "1  {\"240317009021\":6,\"240317003121\":4,\"2403170060...   \n",
       "2  {\"370250413032\":4,\"200910516003\":4,\"2403380390...   \n",
       "3                                 {\"360710114001\":4}   \n",
       "4  {\"371259507021\":7,\"371259506022\":5,\"3712595080...   \n",
       "\n",
       "   visitor_country_of_origin  distance_from_home median_dwell  \\\n",
       "0                  {\"US\":29}             12123.0          8.0   \n",
       "1                  {\"US\":21}             10363.0         55.0   \n",
       "2                  {\"US\":11}             56944.0         16.0   \n",
       "3                   {\"US\":6}             14501.0         15.0   \n",
       "4                  {\"US\":90}             13155.0         10.0   \n",
       "\n",
       "                                bucketed_dwell_times  \\\n",
       "0  {\"<5\":0,\"5-10\":35,\"11-20\":5,\"21-60\":0,\"61-120\"...   \n",
       "1  {\"<5\":0,\"5-10\":5,\"11-20\":5,\"21-60\":7,\"61-120\":...   \n",
       "2  {\"<5\":0,\"5-10\":5,\"11-20\":3,\"21-60\":5,\"61-120\":...   \n",
       "3  {\"<5\":1,\"5-10\":2,\"11-20\":3,\"21-60\":2,\"61-120\":...   \n",
       "4  {\"<5\":7,\"5-10\":48,\"11-20\":12,\"21-60\":15,\"61-12...   \n",
       "\n",
       "                              related_same_day_brand  \\\n",
       "0  {\"76\":100,\"Starbucks\":8,\"Target\":5,\"Greyhound\"...   \n",
       "1  {\"Safeway Pharmacy\":10,\"Walmart\":3,\"Chevrolet\"...   \n",
       "2  {\"Marriott Hotels\":31,\"Exxon Mobil\":23,\"Quizno...   \n",
       "3  {\"Mobil\":22,\"Hannaford Supermarkets\":11,\"Five ...   \n",
       "4  {\"Chick-fil-A\":14,\"Walmart\":9,\"Kohl's\":8,\"McDo...   \n",
       "\n",
       "                            related_same_month_brand  \\\n",
       "0  {\"76\":100,\"ConocoPhillips\":48,\"Walmart\":45,\"Ta...   \n",
       "1  {\"CVS\":55,\"Starbucks\":41,\"Costco\":41,\"Target\":...   \n",
       "2  {\"Shell Oil\":82,\"Exxon Mobil\":64,\"Target\":45,\"...   \n",
       "3  {\"Five Below\":63,\"Mobil\":63,\"McDonald's\":63,\"D...   \n",
       "4  {\"Walmart\":72,\"Chick-fil-A\":68,\"McDonald's\":61...   \n",
       "\n",
       "                                  popularity_by_hour  \\\n",
       "0  [0,0,0,0,0,0,0,2,0,1,1,3,4,2,6,11,3,1,4,2,1,1,...   \n",
       "1  [0,0,0,0,0,0,0,5,9,12,11,9,8,9,13,14,8,3,0,0,0...   \n",
       "2  [0,0,0,0,0,0,0,0,1,0,1,3,4,7,3,1,2,2,0,0,0,0,0,0]   \n",
       "3  [0,0,0,0,0,0,0,0,0,0,1,1,0,2,2,2,1,2,1,0,0,1,0,0]   \n",
       "4  [0,0,0,0,0,0,2,2,6,12,11,11,17,18,13,10,13,21,...   \n",
       "\n",
       "                                   popularity_by_day              device_type  \n",
       "0  {\"Monday\":10,\"Tuesday\":4,\"Wednesday\":8,\"Thursd...  {\"android\":18,\"ios\":12}  \n",
       "1  {\"Monday\":5,\"Tuesday\":6,\"Wednesday\":4,\"Thursda...   {\"android\":13,\"ios\":8}  \n",
       "2  {\"Monday\":5,\"Tuesday\":0,\"Wednesday\":1,\"Thursda...    {\"android\":5,\"ios\":5}  \n",
       "3  {\"Monday\":2,\"Tuesday\":1,\"Wednesday\":2,\"Thursda...    {\"android\":0,\"ios\":6}  \n",
       "4  {\"Monday\":18,\"Tuesday\":14,\"Wednesday\":13,\"Thur...  {\"android\":29,\"ios\":63}  \n",
       "\n",
       "[5 rows x 27 columns]"
      ]
     },
     "execution_count": 4,
     "metadata": {},
     "output_type": "execute_result"
    }
   ],
   "source": [
    "econ_data_202105.head()"
   ]
  },
  {
   "cell_type": "code",
   "execution_count": 5,
   "id": "24cadd2a",
   "metadata": {},
   "outputs": [
    {
     "data": {
      "text/plain": [
       "placekey                                                   222-222@3x5-4sw-d35\n",
       "parent_placekey                                            222-223@3x5-4sw-d35\n",
       "location_name                         Divine's Convenience & Auto Repair Shops\n",
       "street_address                                                 1520 N Pines Rd\n",
       "city                                                            Spokane Valley\n",
       "region                                                                      WA\n",
       "postal_code                                                              99206\n",
       "safegraph_brand_ids                                  SG_BRAND_69d4a2b66d1aea33\n",
       "brands                                Divine's Convenience & Auto Repair Shops\n",
       "date_range_start                                     2021-05-01T00:00:00-07:00\n",
       "date_range_end                                       2021-06-01T00:00:00-07:00\n",
       "raw_visit_counts                                                            40\n",
       "raw_visitor_counts                                                          31\n",
       "visits_by_day                [2,0,1,1,3,0,0,0,1,4,1,1,0,1,4,0,0,0,1,2,3,0,1...\n",
       "poi_cbg                                                           530630118001\n",
       "visitor_home_cbgs            {\"530250104001\":6,\"530630132011\":4,\"1605500180...\n",
       "visitor_home_aggregation     {\"53063003100\":6,\"16055000700\":4,\"53063013500\"...\n",
       "visitor_daytime_cbgs         {\"530610519281\":6,\"530630103011\":4,\"5306301320...\n",
       "visitor_country_of_origin                                            {\"US\":29}\n",
       "distance_from_home                                                     12123.0\n",
       "median_dwell                                                               8.0\n",
       "bucketed_dwell_times         {\"<5\":0,\"5-10\":35,\"11-20\":5,\"21-60\":0,\"61-120\"...\n",
       "related_same_day_brand       {\"76\":100,\"Starbucks\":8,\"Target\":5,\"Greyhound\"...\n",
       "related_same_month_brand     {\"76\":100,\"ConocoPhillips\":48,\"Walmart\":45,\"Ta...\n",
       "popularity_by_hour           [0,0,0,0,0,0,0,2,0,1,1,3,4,2,6,11,3,1,4,2,1,1,...\n",
       "popularity_by_day            {\"Monday\":10,\"Tuesday\":4,\"Wednesday\":8,\"Thursd...\n",
       "device_type                                            {\"android\":18,\"ios\":12}\n",
       "Name: 0, dtype: object"
      ]
     },
     "execution_count": 5,
     "metadata": {},
     "output_type": "execute_result"
    }
   ],
   "source": [
    "econ_data_202105.iloc[0]"
   ]
  },
  {
   "cell_type": "code",
   "execution_count": 6,
   "id": "98c95a8b",
   "metadata": {},
   "outputs": [
    {
     "data": {
      "text/plain": [
       "2021-05-01T00:00:00-04:00    603529\n",
       "2021-05-01T00:00:00-05:00    396918\n",
       "2021-05-01T00:00:00-07:00    235704\n",
       "2021-05-01T00:00:00-06:00     64337\n",
       "2021-05-01T00:00:00-10:00      5708\n",
       "2021-05-01T00:00:00-08:00      2961\n",
       "2021-05-01T00:00:00-03:00        40\n",
       "2021-05-01T00:00:00+10:00        12\n",
       "2021-05-01T00:00:00-11:00         1\n",
       "Name: date_range_start, dtype: int64"
      ]
     },
     "execution_count": 6,
     "metadata": {},
     "output_type": "execute_result"
    }
   ],
   "source": [
    "econ_data_202105.date_range_start.value_counts()"
   ]
  },
  {
   "cell_type": "code",
   "execution_count": 7,
   "id": "06313152",
   "metadata": {},
   "outputs": [
    {
     "data": {
      "text/plain": [
       "2021-06-01T00:00:00-04:00    603529\n",
       "2021-06-01T00:00:00-05:00    396918\n",
       "2021-06-01T00:00:00-07:00    235704\n",
       "2021-06-01T00:00:00-06:00     64337\n",
       "2021-06-01T00:00:00-10:00      5708\n",
       "2021-06-01T00:00:00-08:00      2961\n",
       "2021-06-01T00:00:00-03:00        40\n",
       "2021-06-01T00:00:00+10:00        12\n",
       "2021-06-01T00:00:00-11:00         1\n",
       "Name: date_range_end, dtype: int64"
      ]
     },
     "execution_count": 7,
     "metadata": {},
     "output_type": "execute_result"
    }
   ],
   "source": [
    "econ_data_202105.date_range_end.value_counts()"
   ]
  },
  {
   "cell_type": "code",
   "execution_count": 8,
   "id": "2413edb2",
   "metadata": {},
   "outputs": [
    {
     "data": {
      "text/plain": [
       "United States Postal Service (USPS)                                           7678\n",
       "Subway                                                                        5987\n",
       "Dollar General                                                                5050\n",
       "Shell Oil                                                                     3694\n",
       "McDonald's                                                                    3600\n",
       "                                                                              ... \n",
       "Volkswagen,Mitsubishi Motors,Genesis Auto,Ford Motor Company,Hyundai Motor       1\n",
       "Cadillac,Subaru                                                                  1\n",
       "Fridley Theatres                                                                 1\n",
       "800 Degrees Woodfired Kitchen                                                    1\n",
       "Subaru,AutoNation                                                                1\n",
       "Name: brands, Length: 5796, dtype: int64"
      ]
     },
     "execution_count": 8,
     "metadata": {},
     "output_type": "execute_result"
    }
   ],
   "source": [
    "econ_data_202105.brands.value_counts()"
   ]
  },
  {
   "cell_type": "code",
   "execution_count": 9,
   "id": "d5c81681",
   "metadata": {},
   "outputs": [],
   "source": [
    "keep_cols = ['city', 'region', 'safegraph_brand_ids', 'brands', 'raw_visit_counts', 'raw_visitor_counts',\n",
    "             'visits_by_day', 'poi_cbg', 'median_dwell']"
   ]
  },
  {
   "cell_type": "code",
   "execution_count": null,
   "id": "014d4fe1",
   "metadata": {},
   "outputs": [],
   "source": [
    "econ_data_202105 = econ_data_202105[keep_cols]\n",
    "econ_data_202105['year'] = 2021\n",
    "econ_data_202105['month'] = 5"
   ]
  },
  {
   "cell_type": "code",
   "execution_count": 10,
   "id": "e4afbad5",
   "metadata": {},
   "outputs": [],
   "source": [
    "econ_data_202105.to_csv('data/econ_data_202105.csv', index=False, mode='a')"
   ]
  },
  {
   "cell_type": "code",
   "execution_count": 13,
   "id": "21b46902",
   "metadata": {},
   "outputs": [
    {
     "name": "stderr",
     "output_type": "stream",
     "text": [
      "/Users/yiffle/.virtualenvs/datajam-BszZ0aVF/lib/python3.8/site-packages/IPython/core/interactiveshell.py:3441: DtypeWarning: Columns (14) have mixed types.Specify dtype option on import or set low_memory=False.\n",
      "  exec(code_obj, self.user_global_ns, self.user_ns)\n"
     ]
    }
   ],
   "source": [
    "econ_data_202105 = pd.read_csv('data/patterns-part2.csv')"
   ]
  },
  {
   "cell_type": "markdown",
   "id": "aadf4840",
   "metadata": {},
   "source": [
    "Sanity checks..."
   ]
  },
  {
   "cell_type": "code",
   "execution_count": 14,
   "id": "f33ad16f",
   "metadata": {},
   "outputs": [
    {
     "data": {
      "text/html": [
       "<div>\n",
       "<style scoped>\n",
       "    .dataframe tbody tr th:only-of-type {\n",
       "        vertical-align: middle;\n",
       "    }\n",
       "\n",
       "    .dataframe tbody tr th {\n",
       "        vertical-align: top;\n",
       "    }\n",
       "\n",
       "    .dataframe thead th {\n",
       "        text-align: right;\n",
       "    }\n",
       "</style>\n",
       "<table border=\"1\" class=\"dataframe\">\n",
       "  <thead>\n",
       "    <tr style=\"text-align: right;\">\n",
       "      <th></th>\n",
       "      <th>placekey</th>\n",
       "      <th>parent_placekey</th>\n",
       "      <th>location_name</th>\n",
       "      <th>street_address</th>\n",
       "      <th>city</th>\n",
       "      <th>region</th>\n",
       "      <th>postal_code</th>\n",
       "      <th>safegraph_brand_ids</th>\n",
       "      <th>brands</th>\n",
       "      <th>date_range_start</th>\n",
       "      <th>...</th>\n",
       "      <th>visitor_daytime_cbgs</th>\n",
       "      <th>visitor_country_of_origin</th>\n",
       "      <th>distance_from_home</th>\n",
       "      <th>median_dwell</th>\n",
       "      <th>bucketed_dwell_times</th>\n",
       "      <th>related_same_day_brand</th>\n",
       "      <th>related_same_month_brand</th>\n",
       "      <th>popularity_by_hour</th>\n",
       "      <th>popularity_by_day</th>\n",
       "      <th>device_type</th>\n",
       "    </tr>\n",
       "  </thead>\n",
       "  <tbody>\n",
       "    <tr>\n",
       "      <th>0</th>\n",
       "      <td>zzz-222@63f-w7s-rrk</td>\n",
       "      <td>NaN</td>\n",
       "      <td>Vrfa Land Donation</td>\n",
       "      <td>Vrfa Land Donation</td>\n",
       "      <td>Salem</td>\n",
       "      <td>VA</td>\n",
       "      <td>24153</td>\n",
       "      <td>NaN</td>\n",
       "      <td>NaN</td>\n",
       "      <td>2021-05-01T00:00:00-04:00</td>\n",
       "      <td>...</td>\n",
       "      <td>{\"511610302042\":7,\"511610310002\":4,\"5116103070...</td>\n",
       "      <td>{\"US\":22}</td>\n",
       "      <td>15074.0</td>\n",
       "      <td>46.0</td>\n",
       "      <td>{\"&lt;5\":0,\"5-10\":6,\"11-20\":3,\"21-60\":8,\"61-120\":...</td>\n",
       "      <td>{\"Sheetz\":13,\"McDonald's\":10,\"Chick-fil-A\":7,\"...</td>\n",
       "      <td>{\"Walmart\":73,\"Sheetz\":73,\"McDonald's\":55,\"Chi...</td>\n",
       "      <td>[0,0,0,0,0,0,0,0,1,1,1,1,6,10,10,9,8,6,6,4,0,0...</td>\n",
       "      <td>{\"Monday\":7,\"Tuesday\":4,\"Wednesday\":3,\"Thursda...</td>\n",
       "      <td>{\"android\":4,\"ios\":16}</td>\n",
       "    </tr>\n",
       "    <tr>\n",
       "      <th>1</th>\n",
       "      <td>zzw-223@5zb-xch-7kf</td>\n",
       "      <td>NaN</td>\n",
       "      <td>America's Branded Beef</td>\n",
       "      <td>2330 W Mission Ln Ste 3</td>\n",
       "      <td>Phoenix</td>\n",
       "      <td>AZ</td>\n",
       "      <td>85021</td>\n",
       "      <td>NaN</td>\n",
       "      <td>NaN</td>\n",
       "      <td>2021-05-01T00:00:00-07:00</td>\n",
       "      <td>...</td>\n",
       "      <td>{\"040136124002\":4,\"040130820081\":4}</td>\n",
       "      <td>{\"US\":20}</td>\n",
       "      <td>13885.0</td>\n",
       "      <td>30.0</td>\n",
       "      <td>{\"&lt;5\":4,\"5-10\":11,\"11-20\":2,\"21-60\":6,\"61-120\"...</td>\n",
       "      <td>{\"QuikTrip\":11,\"ARCO\":11,\"Savers Thrift Stores...</td>\n",
       "      <td>{\"QuikTrip\":28,\"Shell Oil\":28,\"Walmart\":24,\"Mc...</td>\n",
       "      <td>[1,1,1,1,1,2,3,5,14,15,9,8,8,10,8,7,7,2,4,5,7,...</td>\n",
       "      <td>{\"Monday\":13,\"Tuesday\":4,\"Wednesday\":3,\"Thursd...</td>\n",
       "      <td>{\"android\":12,\"ios\":12}</td>\n",
       "    </tr>\n",
       "    <tr>\n",
       "      <th>2</th>\n",
       "      <td>225-222@629-3fx-7h5</td>\n",
       "      <td>NaN</td>\n",
       "      <td>Fedora Optical</td>\n",
       "      <td>236 N Main St</td>\n",
       "      <td>Manchester</td>\n",
       "      <td>CT</td>\n",
       "      <td>6042</td>\n",
       "      <td>NaN</td>\n",
       "      <td>NaN</td>\n",
       "      <td>2021-05-01T00:00:00-04:00</td>\n",
       "      <td>...</td>\n",
       "      <td>{\"090035141021\":8,\"090035144001\":5,\"0900351420...</td>\n",
       "      <td>{\"US\":97}</td>\n",
       "      <td>6374.0</td>\n",
       "      <td>33.0</td>\n",
       "      <td>{\"&lt;5\":7,\"5-10\":59,\"11-20\":20,\"21-60\":64,\"61-12...</td>\n",
       "      <td>{\"Dunkin'\":7,\"Cumberland Farms\":5,\"Mobil\":4,\"C...</td>\n",
       "      <td>{\"CVS\":47,\"Dunkin'\":47,\"Walmart\":46,\"McDonald'...</td>\n",
       "      <td>[1,1,1,1,1,3,11,52,75,73,71,69,70,59,63,68,61,...</td>\n",
       "      <td>{\"Monday\":32,\"Tuesday\":34,\"Wednesday\":35,\"Thur...</td>\n",
       "      <td>{\"android\":57,\"ios\":45}</td>\n",
       "    </tr>\n",
       "    <tr>\n",
       "      <th>3</th>\n",
       "      <td>zzy-222@8sr-8kj-x5z</td>\n",
       "      <td>NaN</td>\n",
       "      <td>Boys &amp; Girls Clubs of America</td>\n",
       "      <td>4500 Santa Maria</td>\n",
       "      <td>Laredo</td>\n",
       "      <td>TX</td>\n",
       "      <td>78041</td>\n",
       "      <td>SG_BRAND_f30b03559d204ae5fa8ea7c6d0f38fb6</td>\n",
       "      <td>Boys &amp; Girls Clubs of America</td>\n",
       "      <td>2021-05-01T00:00:00-05:00</td>\n",
       "      <td>...</td>\n",
       "      <td>{\"484790017112\":7,\"484790017202\":4,\"4847900171...</td>\n",
       "      <td>{\"US\":27}</td>\n",
       "      <td>5444.0</td>\n",
       "      <td>13.0</td>\n",
       "      <td>{\"&lt;5\":9,\"5-10\":23,\"11-20\":14,\"21-60\":21,\"61-12...</td>\n",
       "      <td>{\"Church's Chicken\":10,\"Sam's Club Fuel Center...</td>\n",
       "      <td>{\"H-E-B\":66,\"McDonald's\":66,\"Valero Energy\":55...</td>\n",
       "      <td>[0,0,0,0,0,0,1,2,7,8,16,12,11,7,15,12,6,2,3,3,...</td>\n",
       "      <td>{\"Monday\":14,\"Tuesday\":14,\"Wednesday\":9,\"Thurs...</td>\n",
       "      <td>{\"android\":5,\"ios\":24}</td>\n",
       "    </tr>\n",
       "    <tr>\n",
       "      <th>4</th>\n",
       "      <td>22d-222@62j-ss8-3qz</td>\n",
       "      <td>NaN</td>\n",
       "      <td>Tapiz</td>\n",
       "      <td>231 Forest St</td>\n",
       "      <td>Wellesley</td>\n",
       "      <td>MA</td>\n",
       "      <td>2481</td>\n",
       "      <td>NaN</td>\n",
       "      <td>NaN</td>\n",
       "      <td>2021-05-01T00:00:00-04:00</td>\n",
       "      <td>...</td>\n",
       "      <td>{\"250214042012\":4}</td>\n",
       "      <td>{\"US\":9}</td>\n",
       "      <td>4787.0</td>\n",
       "      <td>14.0</td>\n",
       "      <td>{\"&lt;5\":0,\"5-10\":4,\"11-20\":1,\"21-60\":0,\"61-120\":...</td>\n",
       "      <td>{\"sweetgreen\":13,\"CrossFit\":13,\"Dick's Sportin...</td>\n",
       "      <td>{\"CVS\":75,\"Target\":63,\"Roche Brothers Supermar...</td>\n",
       "      <td>[0,0,0,0,0,0,0,0,0,1,2,2,1,1,2,1,4,3,2,0,0,0,0,0]</td>\n",
       "      <td>{\"Monday\":2,\"Tuesday\":0,\"Wednesday\":1,\"Thursda...</td>\n",
       "      <td>{\"android\":4,\"ios\":4}</td>\n",
       "    </tr>\n",
       "  </tbody>\n",
       "</table>\n",
       "<p>5 rows × 27 columns</p>\n",
       "</div>"
      ],
      "text/plain": [
       "              placekey parent_placekey                  location_name  \\\n",
       "0  zzz-222@63f-w7s-rrk             NaN             Vrfa Land Donation   \n",
       "1  zzw-223@5zb-xch-7kf             NaN         America's Branded Beef   \n",
       "2  225-222@629-3fx-7h5             NaN                 Fedora Optical   \n",
       "3  zzy-222@8sr-8kj-x5z             NaN  Boys & Girls Clubs of America   \n",
       "4  22d-222@62j-ss8-3qz             NaN                          Tapiz   \n",
       "\n",
       "            street_address        city region  postal_code  \\\n",
       "0       Vrfa Land Donation       Salem     VA        24153   \n",
       "1  2330 W Mission Ln Ste 3     Phoenix     AZ        85021   \n",
       "2            236 N Main St  Manchester     CT         6042   \n",
       "3         4500 Santa Maria      Laredo     TX        78041   \n",
       "4            231 Forest St   Wellesley     MA         2481   \n",
       "\n",
       "                         safegraph_brand_ids                         brands  \\\n",
       "0                                        NaN                            NaN   \n",
       "1                                        NaN                            NaN   \n",
       "2                                        NaN                            NaN   \n",
       "3  SG_BRAND_f30b03559d204ae5fa8ea7c6d0f38fb6  Boys & Girls Clubs of America   \n",
       "4                                        NaN                            NaN   \n",
       "\n",
       "            date_range_start  ...  \\\n",
       "0  2021-05-01T00:00:00-04:00  ...   \n",
       "1  2021-05-01T00:00:00-07:00  ...   \n",
       "2  2021-05-01T00:00:00-04:00  ...   \n",
       "3  2021-05-01T00:00:00-05:00  ...   \n",
       "4  2021-05-01T00:00:00-04:00  ...   \n",
       "\n",
       "                                visitor_daytime_cbgs  \\\n",
       "0  {\"511610302042\":7,\"511610310002\":4,\"5116103070...   \n",
       "1                {\"040136124002\":4,\"040130820081\":4}   \n",
       "2  {\"090035141021\":8,\"090035144001\":5,\"0900351420...   \n",
       "3  {\"484790017112\":7,\"484790017202\":4,\"4847900171...   \n",
       "4                                 {\"250214042012\":4}   \n",
       "\n",
       "   visitor_country_of_origin  distance_from_home median_dwell  \\\n",
       "0                  {\"US\":22}             15074.0         46.0   \n",
       "1                  {\"US\":20}             13885.0         30.0   \n",
       "2                  {\"US\":97}              6374.0         33.0   \n",
       "3                  {\"US\":27}              5444.0         13.0   \n",
       "4                   {\"US\":9}              4787.0         14.0   \n",
       "\n",
       "                                bucketed_dwell_times  \\\n",
       "0  {\"<5\":0,\"5-10\":6,\"11-20\":3,\"21-60\":8,\"61-120\":...   \n",
       "1  {\"<5\":4,\"5-10\":11,\"11-20\":2,\"21-60\":6,\"61-120\"...   \n",
       "2  {\"<5\":7,\"5-10\":59,\"11-20\":20,\"21-60\":64,\"61-12...   \n",
       "3  {\"<5\":9,\"5-10\":23,\"11-20\":14,\"21-60\":21,\"61-12...   \n",
       "4  {\"<5\":0,\"5-10\":4,\"11-20\":1,\"21-60\":0,\"61-120\":...   \n",
       "\n",
       "                              related_same_day_brand  \\\n",
       "0  {\"Sheetz\":13,\"McDonald's\":10,\"Chick-fil-A\":7,\"...   \n",
       "1  {\"QuikTrip\":11,\"ARCO\":11,\"Savers Thrift Stores...   \n",
       "2  {\"Dunkin'\":7,\"Cumberland Farms\":5,\"Mobil\":4,\"C...   \n",
       "3  {\"Church's Chicken\":10,\"Sam's Club Fuel Center...   \n",
       "4  {\"sweetgreen\":13,\"CrossFit\":13,\"Dick's Sportin...   \n",
       "\n",
       "                            related_same_month_brand  \\\n",
       "0  {\"Walmart\":73,\"Sheetz\":73,\"McDonald's\":55,\"Chi...   \n",
       "1  {\"QuikTrip\":28,\"Shell Oil\":28,\"Walmart\":24,\"Mc...   \n",
       "2  {\"CVS\":47,\"Dunkin'\":47,\"Walmart\":46,\"McDonald'...   \n",
       "3  {\"H-E-B\":66,\"McDonald's\":66,\"Valero Energy\":55...   \n",
       "4  {\"CVS\":75,\"Target\":63,\"Roche Brothers Supermar...   \n",
       "\n",
       "                                  popularity_by_hour  \\\n",
       "0  [0,0,0,0,0,0,0,0,1,1,1,1,6,10,10,9,8,6,6,4,0,0...   \n",
       "1  [1,1,1,1,1,2,3,5,14,15,9,8,8,10,8,7,7,2,4,5,7,...   \n",
       "2  [1,1,1,1,1,3,11,52,75,73,71,69,70,59,63,68,61,...   \n",
       "3  [0,0,0,0,0,0,1,2,7,8,16,12,11,7,15,12,6,2,3,3,...   \n",
       "4  [0,0,0,0,0,0,0,0,0,1,2,2,1,1,2,1,4,3,2,0,0,0,0,0]   \n",
       "\n",
       "                                   popularity_by_day              device_type  \n",
       "0  {\"Monday\":7,\"Tuesday\":4,\"Wednesday\":3,\"Thursda...   {\"android\":4,\"ios\":16}  \n",
       "1  {\"Monday\":13,\"Tuesday\":4,\"Wednesday\":3,\"Thursd...  {\"android\":12,\"ios\":12}  \n",
       "2  {\"Monday\":32,\"Tuesday\":34,\"Wednesday\":35,\"Thur...  {\"android\":57,\"ios\":45}  \n",
       "3  {\"Monday\":14,\"Tuesday\":14,\"Wednesday\":9,\"Thurs...   {\"android\":5,\"ios\":24}  \n",
       "4  {\"Monday\":2,\"Tuesday\":0,\"Wednesday\":1,\"Thursda...    {\"android\":4,\"ios\":4}  \n",
       "\n",
       "[5 rows x 27 columns]"
      ]
     },
     "execution_count": 14,
     "metadata": {},
     "output_type": "execute_result"
    }
   ],
   "source": [
    "econ_data_202105.head()"
   ]
  },
  {
   "cell_type": "code",
   "execution_count": 17,
   "id": "f2eaa98a",
   "metadata": {},
   "outputs": [
    {
     "data": {
      "text/plain": [
       "2021-05-01T00:00:00-04:00    467400\n",
       "2021-05-01T00:00:00-05:00    307888\n",
       "2021-05-01T00:00:00-07:00    181918\n",
       "2021-05-01T00:00:00-06:00     49833\n",
       "2021-05-01T00:00:00-10:00      4361\n",
       "2021-05-01T00:00:00-08:00      2378\n",
       "2021-05-01T00:00:00-03:00        31\n",
       "2021-05-01T00:00:00+10:00        15\n",
       "2021-05-01T00:00:00-11:00         1\n",
       "Name: date_range_start, dtype: int64"
      ]
     },
     "execution_count": 17,
     "metadata": {},
     "output_type": "execute_result"
    }
   ],
   "source": [
    "econ_data_202105.date_range_start.value_counts()"
   ]
  },
  {
   "cell_type": "code",
   "execution_count": 18,
   "id": "0d0224b0",
   "metadata": {},
   "outputs": [
    {
     "data": {
      "text/plain": [
       "2021-06-01T00:00:00-04:00    467400\n",
       "2021-06-01T00:00:00-05:00    307888\n",
       "2021-06-01T00:00:00-07:00    181918\n",
       "2021-06-01T00:00:00-06:00     49833\n",
       "2021-06-01T00:00:00-10:00      4361\n",
       "2021-06-01T00:00:00-08:00      2378\n",
       "2021-06-01T00:00:00-03:00        31\n",
       "2021-06-01T00:00:00+10:00        15\n",
       "2021-06-01T00:00:00-11:00         1\n",
       "Name: date_range_end, dtype: int64"
      ]
     },
     "execution_count": 18,
     "metadata": {},
     "output_type": "execute_result"
    }
   ],
   "source": [
    "econ_data_202105.date_range_end.value_counts()"
   ]
  },
  {
   "cell_type": "code",
   "execution_count": 19,
   "id": "35602160",
   "metadata": {},
   "outputs": [],
   "source": [
    "econ_data_202105 = econ_data_202105[keep_cols]\n",
    "econ_data_202105['year'] = 2021\n",
    "econ_data_202105['month'] = 5"
   ]
  },
  {
   "cell_type": "code",
   "execution_count": 20,
   "id": "facf36de",
   "metadata": {},
   "outputs": [],
   "source": [
    "econ_data_202105.to_csv('data/econ_data_202105.csv', index=False, mode='a')"
   ]
  },
  {
   "cell_type": "code",
   "execution_count": 21,
   "id": "980f095c",
   "metadata": {},
   "outputs": [
    {
     "name": "stderr",
     "output_type": "stream",
     "text": [
      "/Users/yiffle/.virtualenvs/datajam-BszZ0aVF/lib/python3.8/site-packages/IPython/core/interactiveshell.py:3441: DtypeWarning: Columns (14) have mixed types.Specify dtype option on import or set low_memory=False.\n",
      "  exec(code_obj, self.user_global_ns, self.user_ns)\n"
     ]
    }
   ],
   "source": [
    "econ_data_202105 = pd.read_csv('data/patterns-part3.csv')"
   ]
  },
  {
   "cell_type": "markdown",
   "id": "af499e3f",
   "metadata": {},
   "source": [
    "Minimal date range sanity check"
   ]
  },
  {
   "cell_type": "code",
   "execution_count": 23,
   "id": "251521f3",
   "metadata": {},
   "outputs": [
    {
     "data": {
      "text/plain": [
       "2021-06-01T00:00:00-04:00    555119\n",
       "2021-06-01T00:00:00-05:00    365196\n",
       "2021-06-01T00:00:00-07:00    216838\n",
       "2021-06-01T00:00:00-06:00     59104\n",
       "2021-06-01T00:00:00-10:00      5200\n",
       "2021-06-01T00:00:00-08:00      2816\n",
       "2021-06-01T00:00:00-03:00        26\n",
       "2021-06-01T00:00:00+10:00        13\n",
       "2021-06-01T00:00:00-11:00         1\n",
       "Name: date_range_end, dtype: int64"
      ]
     },
     "execution_count": 23,
     "metadata": {},
     "output_type": "execute_result"
    }
   ],
   "source": [
    "econ_data_202105.date_range_end.value_counts()"
   ]
  },
  {
   "cell_type": "code",
   "execution_count": 24,
   "id": "c7bfb2ff",
   "metadata": {},
   "outputs": [],
   "source": [
    "econ_data_202105 = econ_data_202105[keep_cols]\n",
    "econ_data_202105['year'] = 2021\n",
    "econ_data_202105['month'] = 5"
   ]
  },
  {
   "cell_type": "code",
   "execution_count": 25,
   "id": "4bed0ec8",
   "metadata": {},
   "outputs": [],
   "source": [
    "econ_data_202105.to_csv('data/econ_data_202105.csv', index=False, mode='a')"
   ]
  },
  {
   "cell_type": "code",
   "execution_count": 26,
   "id": "475dfae8",
   "metadata": {},
   "outputs": [],
   "source": [
    "econ_data_202105 = pd.read_csv('data/patterns-part4.csv')"
   ]
  },
  {
   "cell_type": "markdown",
   "id": "c128b361",
   "metadata": {},
   "source": [
    "Minimal date range sanity check"
   ]
  },
  {
   "cell_type": "code",
   "execution_count": 27,
   "id": "a668e613",
   "metadata": {},
   "outputs": [
    {
     "data": {
      "text/plain": [
       "2021-06-01T00:00:00-04:00    466787\n",
       "2021-06-01T00:00:00-05:00    306209\n",
       "2021-06-01T00:00:00-07:00    182739\n",
       "2021-06-01T00:00:00-06:00     49866\n",
       "2021-06-01T00:00:00-10:00      4311\n",
       "2021-06-01T00:00:00-08:00      2396\n",
       "2021-06-01T00:00:00-03:00        21\n",
       "2021-06-01T00:00:00+10:00        16\n",
       "2021-06-01T00:00:00-11:00         2\n",
       "Name: date_range_end, dtype: int64"
      ]
     },
     "execution_count": 27,
     "metadata": {},
     "output_type": "execute_result"
    }
   ],
   "source": [
    "econ_data_202105.date_range_end.value_counts()"
   ]
  },
  {
   "cell_type": "code",
   "execution_count": 28,
   "id": "83bd6faa",
   "metadata": {},
   "outputs": [],
   "source": [
    "econ_data_202105 = econ_data_202105[keep_cols]\n",
    "econ_data_202105['year'] = 2021\n",
    "econ_data_202105['month'] = 5"
   ]
  },
  {
   "cell_type": "code",
   "execution_count": 29,
   "id": "86f0391a",
   "metadata": {},
   "outputs": [],
   "source": [
    "econ_data_202105.to_csv('data/econ_data_202105.csv', index=False, mode='a')"
   ]
  },
  {
   "cell_type": "code",
   "execution_count": 8,
   "id": "42035c95",
   "metadata": {},
   "outputs": [],
   "source": [
    "del econ_data_202105"
   ]
  },
  {
   "cell_type": "markdown",
   "id": "ad1bc4b4",
   "metadata": {},
   "source": [
    "### Define function based on above and apply to other months"
   ]
  },
  {
   "cell_type": "code",
   "execution_count": 68,
   "id": "67f55b20",
   "metadata": {},
   "outputs": [],
   "source": [
    "def monthly_data_edit_write(infile, outfile):\n",
    "    data = pd.read_csv(infile)\n",
    "    keep_cols = ['city', 'region', 'safegraph_brand_ids', 'brands', 'raw_visit_counts', 'raw_visitor_counts',\n",
    "                 'visits_by_day', 'poi_cbg', 'median_dwell']\n",
    "    dt_split = data.date_range_start.str.split('-')\n",
    "    data = data[keep_cols]\n",
    "    data['year'] = dt_split.apply(lambda d: int(d[0]))\n",
    "    data['month'] = dt_split.apply(lambda d: int(d[1]))\n",
    "    data.to_csv(outfile, index=False, mode='a')\n",
    "    return data # for ease of sanity checking"
   ]
  },
  {
   "cell_type": "markdown",
   "id": "aa5e2564",
   "metadata": {},
   "source": [
    "### April 2021"
   ]
  },
  {
   "cell_type": "code",
   "execution_count": 65,
   "id": "6175d870",
   "metadata": {},
   "outputs": [
    {
     "name": "stderr",
     "output_type": "stream",
     "text": [
      "/var/folders/vb/mx_pd5yj6vs5swj_v12lbvpc0000gn/T/ipykernel_6683/1039207971.py:1: DtypeWarning: Columns (14) have mixed types.Specify dtype option on import or set low_memory=False.\n",
      "  monthly_data_edit_write('data/patterns-part1.csv', 'data/patterns-cleaned_202104.csv')\n"
     ]
    }
   ],
   "source": [
    "econ_data_202104 = monthly_data_edit_write('data/patterns-part1.csv', 'data/patterns-cleaned_202104.csv')"
   ]
  },
  {
   "cell_type": "code",
   "execution_count": 71,
   "id": "5f292404",
   "metadata": {},
   "outputs": [
    {
     "name": "stderr",
     "output_type": "stream",
     "text": [
      "/var/folders/vb/mx_pd5yj6vs5swj_v12lbvpc0000gn/T/ipykernel_6683/3809705207.py:1: DtypeWarning: Columns (14) have mixed types.Specify dtype option on import or set low_memory=False.\n",
      "  econ_data_202104 = monthly_data_edit_write('data/patterns-part2.csv', 'data/patterns-cleaned_202104.csv')\n"
     ]
    }
   ],
   "source": [
    "econ_data_202104 = monthly_data_edit_write('data/patterns-part2.csv', 'data/patterns-cleaned_202104.csv')"
   ]
  },
  {
   "cell_type": "code",
   "execution_count": 73,
   "id": "fef88b31",
   "metadata": {},
   "outputs": [
    {
     "name": "stderr",
     "output_type": "stream",
     "text": [
      "/var/folders/vb/mx_pd5yj6vs5swj_v12lbvpc0000gn/T/ipykernel_6683/2237098479.py:1: DtypeWarning: Columns (14) have mixed types.Specify dtype option on import or set low_memory=False.\n",
      "  econ_data_202104 = monthly_data_edit_write('data/patterns-part3.csv', 'data/patterns-cleaned_202104.csv')\n"
     ]
    }
   ],
   "source": [
    "econ_data_202104 = monthly_data_edit_write('data/patterns-part3.csv', 'data/patterns-cleaned_202104.csv')"
   ]
  },
  {
   "cell_type": "code",
   "execution_count": 75,
   "id": "7dff34f5",
   "metadata": {},
   "outputs": [
    {
     "name": "stderr",
     "output_type": "stream",
     "text": [
      "/var/folders/vb/mx_pd5yj6vs5swj_v12lbvpc0000gn/T/ipykernel_6683/400453615.py:1: DtypeWarning: Columns (14) have mixed types.Specify dtype option on import or set low_memory=False.\n",
      "  econ_data_202104 = monthly_data_edit_write('data/patterns-part4.csv', 'data/patterns-cleaned_202104.csv')\n"
     ]
    }
   ],
   "source": [
    "econ_data_202104 = monthly_data_edit_write('data/patterns-part4.csv', 'data/patterns-cleaned_202104.csv')"
   ]
  },
  {
   "cell_type": "markdown",
   "id": "3c66083b",
   "metadata": {},
   "source": [
    "### Etc."
   ]
  }
 ],
 "metadata": {
  "kernelspec": {
   "display_name": "Python 3 (ipykernel)",
   "language": "python",
   "name": "python3"
  },
  "language_info": {
   "codemirror_mode": {
    "name": "ipython",
    "version": 3
   },
   "file_extension": ".py",
   "mimetype": "text/x-python",
   "name": "python",
   "nbconvert_exporter": "python",
   "pygments_lexer": "ipython3",
   "version": "3.8.2"
  }
 },
 "nbformat": 4,
 "nbformat_minor": 5
}
